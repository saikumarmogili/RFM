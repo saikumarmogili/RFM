{
 "cells": [
  {
   "cell_type": "markdown",
   "id": "4af6ce85",
   "metadata": {},
   "source": [
    "\n",
    "# 🛍️ RFM Customer Segmentation with Feature Engineering\n",
    "\n",
    "## 📌 Objective\n",
    "Segment customers based on their purchasing behavior using **RFM analysis** and enhance the dataset with **temporal and behavioral features** to derive deeper insights for strategic marketing and personalization.\n"
   ]
  },
  {
   "cell_type": "code",
   "execution_count": 1,
   "id": "c3634cce-28d0-4558-ad2f-cef2cce8cc88",
   "metadata": {},
   "outputs": [
    {
     "data": {
      "text/html": [
       "<div>\n",
       "<style scoped>\n",
       "    .dataframe tbody tr th:only-of-type {\n",
       "        vertical-align: middle;\n",
       "    }\n",
       "\n",
       "    .dataframe tbody tr th {\n",
       "        vertical-align: top;\n",
       "    }\n",
       "\n",
       "    .dataframe thead th {\n",
       "        text-align: right;\n",
       "    }\n",
       "</style>\n",
       "<table border=\"1\" class=\"dataframe\">\n",
       "  <thead>\n",
       "    <tr style=\"text-align: right;\">\n",
       "      <th></th>\n",
       "      <th>InvoiceNo</th>\n",
       "      <th>StockCode</th>\n",
       "      <th>Description</th>\n",
       "      <th>Quantity</th>\n",
       "      <th>InvoiceDate</th>\n",
       "      <th>UnitPrice</th>\n",
       "      <th>CustomerID</th>\n",
       "      <th>Country</th>\n",
       "    </tr>\n",
       "  </thead>\n",
       "  <tbody>\n",
       "    <tr>\n",
       "      <th>0</th>\n",
       "      <td>536365</td>\n",
       "      <td>85123A</td>\n",
       "      <td>WHITE HANGING HEART T-LIGHT HOLDER</td>\n",
       "      <td>6</td>\n",
       "      <td>2010-12-01 08:26:00</td>\n",
       "      <td>2.55</td>\n",
       "      <td>17850.0</td>\n",
       "      <td>United Kingdom</td>\n",
       "    </tr>\n",
       "    <tr>\n",
       "      <th>1</th>\n",
       "      <td>536365</td>\n",
       "      <td>71053</td>\n",
       "      <td>WHITE METAL LANTERN</td>\n",
       "      <td>6</td>\n",
       "      <td>2010-12-01 08:26:00</td>\n",
       "      <td>3.39</td>\n",
       "      <td>17850.0</td>\n",
       "      <td>United Kingdom</td>\n",
       "    </tr>\n",
       "    <tr>\n",
       "      <th>2</th>\n",
       "      <td>536365</td>\n",
       "      <td>84406B</td>\n",
       "      <td>CREAM CUPID HEARTS COAT HANGER</td>\n",
       "      <td>8</td>\n",
       "      <td>2010-12-01 08:26:00</td>\n",
       "      <td>2.75</td>\n",
       "      <td>17850.0</td>\n",
       "      <td>United Kingdom</td>\n",
       "    </tr>\n",
       "    <tr>\n",
       "      <th>3</th>\n",
       "      <td>536365</td>\n",
       "      <td>84029G</td>\n",
       "      <td>KNITTED UNION FLAG HOT WATER BOTTLE</td>\n",
       "      <td>6</td>\n",
       "      <td>2010-12-01 08:26:00</td>\n",
       "      <td>3.39</td>\n",
       "      <td>17850.0</td>\n",
       "      <td>United Kingdom</td>\n",
       "    </tr>\n",
       "    <tr>\n",
       "      <th>4</th>\n",
       "      <td>536365</td>\n",
       "      <td>84029E</td>\n",
       "      <td>RED WOOLLY HOTTIE WHITE HEART.</td>\n",
       "      <td>6</td>\n",
       "      <td>2010-12-01 08:26:00</td>\n",
       "      <td>3.39</td>\n",
       "      <td>17850.0</td>\n",
       "      <td>United Kingdom</td>\n",
       "    </tr>\n",
       "  </tbody>\n",
       "</table>\n",
       "</div>"
      ],
      "text/plain": [
       "  InvoiceNo StockCode                          Description  Quantity  \\\n",
       "0    536365    85123A   WHITE HANGING HEART T-LIGHT HOLDER         6   \n",
       "1    536365     71053                  WHITE METAL LANTERN         6   \n",
       "2    536365    84406B       CREAM CUPID HEARTS COAT HANGER         8   \n",
       "3    536365    84029G  KNITTED UNION FLAG HOT WATER BOTTLE         6   \n",
       "4    536365    84029E       RED WOOLLY HOTTIE WHITE HEART.         6   \n",
       "\n",
       "          InvoiceDate  UnitPrice  CustomerID         Country  \n",
       "0 2010-12-01 08:26:00       2.55     17850.0  United Kingdom  \n",
       "1 2010-12-01 08:26:00       3.39     17850.0  United Kingdom  \n",
       "2 2010-12-01 08:26:00       2.75     17850.0  United Kingdom  \n",
       "3 2010-12-01 08:26:00       3.39     17850.0  United Kingdom  \n",
       "4 2010-12-01 08:26:00       3.39     17850.0  United Kingdom  "
      ]
     },
     "execution_count": 1,
     "metadata": {},
     "output_type": "execute_result"
    }
   ],
   "source": [
    "import pandas as pd\n",
    "\n",
    "# Load the UCI Online Retail Dataset from a known online source\n",
    "\n",
    "# Try loading the dataset\n",
    "df = pd.read_excel(\"C:/Users/smogi/Downloads/Online Retail (1).xlsx\")\n",
    "\n",
    "# Display the first few rows and basic info\n",
    "df.head()\n"
   ]
  },
  {
   "cell_type": "code",
   "execution_count": 2,
   "id": "023ffae8-3f4e-45dc-9028-6c02096e34fa",
   "metadata": {},
   "outputs": [
    {
     "data": {
      "text/plain": [
       "InvoiceNo           0\n",
       "StockCode           0\n",
       "Description      1454\n",
       "Quantity            0\n",
       "InvoiceDate         0\n",
       "UnitPrice           0\n",
       "CustomerID     135080\n",
       "Country             0\n",
       "dtype: int64"
      ]
     },
     "execution_count": 2,
     "metadata": {},
     "output_type": "execute_result"
    }
   ],
   "source": [
    "df.isnull().sum()"
   ]
  },
  {
   "cell_type": "code",
   "execution_count": 3,
   "id": "26761d67-d03c-4d36-8686-d66eeb9ef123",
   "metadata": {},
   "outputs": [
    {
     "name": "stdout",
     "output_type": "stream",
     "text": [
      "<class 'pandas.core.frame.DataFrame'>\n",
      "RangeIndex: 541909 entries, 0 to 541908\n",
      "Data columns (total 8 columns):\n",
      " #   Column       Non-Null Count   Dtype         \n",
      "---  ------       --------------   -----         \n",
      " 0   InvoiceNo    541909 non-null  object        \n",
      " 1   StockCode    541909 non-null  object        \n",
      " 2   Description  540455 non-null  object        \n",
      " 3   Quantity     541909 non-null  int64         \n",
      " 4   InvoiceDate  541909 non-null  datetime64[ns]\n",
      " 5   UnitPrice    541909 non-null  float64       \n",
      " 6   CustomerID   406829 non-null  float64       \n",
      " 7   Country      541909 non-null  object        \n",
      "dtypes: datetime64[ns](1), float64(2), int64(1), object(4)\n",
      "memory usage: 33.1+ MB\n"
     ]
    }
   ],
   "source": [
    "df.info()"
   ]
  },
  {
   "cell_type": "markdown",
   "id": "12f7299c",
   "metadata": {},
   "source": [
    "## 📊 RFM Calculation"
   ]
  },
  {
   "cell_type": "markdown",
   "id": "01bc3a51",
   "metadata": {},
   "source": [
    "Aggregate Recency, Frequency, and Monetary values by customer."
   ]
  },
  {
   "cell_type": "code",
   "execution_count": 4,
   "id": "2659bbff-7d80-44f1-9f84-36a31c4e0c2e",
   "metadata": {},
   "outputs": [
    {
     "name": "stdout",
     "output_type": "stream",
     "text": [
      "Remaining nulls in CustomerID: 135080\n"
     ]
    }
   ],
   "source": [
    "import pandas as pd\n",
    "\n",
    "\n",
    "\n",
    "# Step 1: Create a mapping of InvoiceNo → known CustomerID\n",
    "invoice_customer_map = (\n",
    "    df[df[\"CustomerID\"].notnull()]\n",
    "    .groupby(\"InvoiceNo\")[\"CustomerID\"]\n",
    "    .first()\n",
    ")\n",
    "\n",
    "# Step 2: Fill missing CustomerID using the map\n",
    "df[\"CustomerID\"] = df.apply(\n",
    "    lambda row: invoice_customer_map[row[\"InvoiceNo\"]]\n",
    "    if pd.isnull(row[\"CustomerID\"]) and row[\"InvoiceNo\"] in invoice_customer_map\n",
    "    else row[\"CustomerID\"],\n",
    "    axis=1\n",
    ")\n",
    "\n",
    "# Step 3: Check how many nulls remain\n",
    "print(\"Remaining nulls in CustomerID:\", df[\"CustomerID\"].isnull().sum())\n",
    "\n",
    "# Optional: Save cleaned version\n",
    "#df.to_csv(\"cleaned_online_retail.csv\", index=False)\n"
   ]
  },
  {
   "cell_type": "code",
   "execution_count": 5,
   "id": "dfce2fcd-35bc-41d8-876b-1130050c94b2",
   "metadata": {
    "scrolled": true
   },
   "outputs": [],
   "source": [
    "import pandas as pd\n",
    "\n",
    "\n",
    "\n",
    "# Sort by InvoiceDate\n",
    "df = df.sort_values(\"InvoiceDate\").reset_index(drop=True)\n",
    "\n",
    "# Initialize tracking list\n",
    "guest_id = 0\n",
    "assigned_ids = []\n",
    "\n",
    "# Loop through rows and assign ID\n",
    "for i in range(len(df)):\n",
    "    cust_id = df.loc[i, \"CustomerID\"]\n",
    "    \n",
    "    if pd.isnull(cust_id):\n",
    "        if i == 0 or not pd.isnull(df.loc[i - 1, \"CustomerID\"]):\n",
    "            guest_id += 1  # new guest block\n",
    "        assigned_ids.append(f\"Guest_{guest_id}\")\n",
    "    else:\n",
    "        assigned_ids.append(str(int(cust_id)))  # known customer\n",
    "\n",
    "# Assign new ID column\n",
    "df[\"AssignedCustomerID\"] = assigned_ids\n"
   ]
  },
  {
   "cell_type": "code",
   "execution_count": 6,
   "id": "14805f9e-8921-4984-a3bf-8656dd86946d",
   "metadata": {},
   "outputs": [
    {
     "data": {
      "text/plain": [
       "2164"
      ]
     },
     "execution_count": 6,
     "metadata": {},
     "output_type": "execute_result"
    }
   ],
   "source": [
    "df[df[\"AssignedCustomerID\"].str.contains(\"Guest_\")][\"AssignedCustomerID\"].nunique()\n"
   ]
  },
  {
   "cell_type": "code",
   "execution_count": 7,
   "id": "1a25f6f5-174c-4bd8-a7c9-a9559b4b56fe",
   "metadata": {},
   "outputs": [
    {
     "data": {
      "text/plain": [
       "(2164,\n",
       " AssignedCustomerID\n",
       " Guest_235     1590\n",
       " Guest_2138    1383\n",
       " Guest_61      1187\n",
       " Guest_1158    1155\n",
       " Guest_1969    1147\n",
       " Guest_1842    1114\n",
       " Guest_1433    1018\n",
       " Guest_2023     989\n",
       " Guest_140      954\n",
       " Guest_1904     930\n",
       " Name: count, dtype: int64)"
      ]
     },
     "execution_count": 7,
     "metadata": {},
     "output_type": "execute_result"
    }
   ],
   "source": [
    "# Continue from the previous DataFrame: df with AssignedCustomerID\n",
    "# Count unique Guest_X IDs\n",
    "guest_count = df[df[\"AssignedCustomerID\"].str.contains(\"Guest_\")][\"AssignedCustomerID\"].nunique()\n",
    "\n",
    "# Show all Guest IDs with sample counts\n",
    "guest_id_distribution = (\n",
    "    df[df[\"AssignedCustomerID\"].str.contains(\"Guest_\")]\n",
    "    [\"AssignedCustomerID\"]\n",
    "    .value_counts()\n",
    "    .head(10)\n",
    ")\n",
    "\n",
    "guest_count, guest_id_distribution\n",
    "\n"
   ]
  },
  {
   "cell_type": "code",
   "execution_count": 8,
   "id": "ad59c594-228c-4d1a-93ad-d77f3087b59c",
   "metadata": {},
   "outputs": [
    {
     "data": {
      "text/plain": [
       "InvoiceNo                  0\n",
       "StockCode                  0\n",
       "Description             1454\n",
       "Quantity                   0\n",
       "InvoiceDate                0\n",
       "UnitPrice                  0\n",
       "CustomerID            135080\n",
       "Country                    0\n",
       "AssignedCustomerID         0\n",
       "dtype: int64"
      ]
     },
     "execution_count": 8,
     "metadata": {},
     "output_type": "execute_result"
    }
   ],
   "source": [
    "df.isnull().sum()"
   ]
  },
  {
   "cell_type": "code",
   "execution_count": 9,
   "id": "b2f257c6-db3c-47cc-873e-305d4abca1a2",
   "metadata": {},
   "outputs": [
    {
     "data": {
      "text/html": [
       "<div>\n",
       "<style scoped>\n",
       "    .dataframe tbody tr th:only-of-type {\n",
       "        vertical-align: middle;\n",
       "    }\n",
       "\n",
       "    .dataframe tbody tr th {\n",
       "        vertical-align: top;\n",
       "    }\n",
       "\n",
       "    .dataframe thead th {\n",
       "        text-align: right;\n",
       "    }\n",
       "</style>\n",
       "<table border=\"1\" class=\"dataframe\">\n",
       "  <thead>\n",
       "    <tr style=\"text-align: right;\">\n",
       "      <th></th>\n",
       "      <th>InvoiceNo</th>\n",
       "      <th>StockCode</th>\n",
       "      <th>Description</th>\n",
       "      <th>Quantity</th>\n",
       "      <th>InvoiceDate</th>\n",
       "      <th>UnitPrice</th>\n",
       "      <th>Country</th>\n",
       "      <th>CustomerID</th>\n",
       "    </tr>\n",
       "  </thead>\n",
       "  <tbody>\n",
       "    <tr>\n",
       "      <th>0</th>\n",
       "      <td>536365</td>\n",
       "      <td>85123A</td>\n",
       "      <td>WHITE HANGING HEART T-LIGHT HOLDER</td>\n",
       "      <td>6</td>\n",
       "      <td>2010-12-01 08:26:00</td>\n",
       "      <td>2.55</td>\n",
       "      <td>United Kingdom</td>\n",
       "      <td>17850</td>\n",
       "    </tr>\n",
       "    <tr>\n",
       "      <th>1</th>\n",
       "      <td>536365</td>\n",
       "      <td>71053</td>\n",
       "      <td>WHITE METAL LANTERN</td>\n",
       "      <td>6</td>\n",
       "      <td>2010-12-01 08:26:00</td>\n",
       "      <td>3.39</td>\n",
       "      <td>United Kingdom</td>\n",
       "      <td>17850</td>\n",
       "    </tr>\n",
       "    <tr>\n",
       "      <th>2</th>\n",
       "      <td>536365</td>\n",
       "      <td>84406B</td>\n",
       "      <td>CREAM CUPID HEARTS COAT HANGER</td>\n",
       "      <td>8</td>\n",
       "      <td>2010-12-01 08:26:00</td>\n",
       "      <td>2.75</td>\n",
       "      <td>United Kingdom</td>\n",
       "      <td>17850</td>\n",
       "    </tr>\n",
       "    <tr>\n",
       "      <th>3</th>\n",
       "      <td>536365</td>\n",
       "      <td>84029G</td>\n",
       "      <td>KNITTED UNION FLAG HOT WATER BOTTLE</td>\n",
       "      <td>6</td>\n",
       "      <td>2010-12-01 08:26:00</td>\n",
       "      <td>3.39</td>\n",
       "      <td>United Kingdom</td>\n",
       "      <td>17850</td>\n",
       "    </tr>\n",
       "    <tr>\n",
       "      <th>4</th>\n",
       "      <td>536365</td>\n",
       "      <td>84029E</td>\n",
       "      <td>RED WOOLLY HOTTIE WHITE HEART.</td>\n",
       "      <td>6</td>\n",
       "      <td>2010-12-01 08:26:00</td>\n",
       "      <td>3.39</td>\n",
       "      <td>United Kingdom</td>\n",
       "      <td>17850</td>\n",
       "    </tr>\n",
       "  </tbody>\n",
       "</table>\n",
       "</div>"
      ],
      "text/plain": [
       "  InvoiceNo StockCode                          Description  Quantity  \\\n",
       "0    536365    85123A   WHITE HANGING HEART T-LIGHT HOLDER         6   \n",
       "1    536365     71053                  WHITE METAL LANTERN         6   \n",
       "2    536365    84406B       CREAM CUPID HEARTS COAT HANGER         8   \n",
       "3    536365    84029G  KNITTED UNION FLAG HOT WATER BOTTLE         6   \n",
       "4    536365    84029E       RED WOOLLY HOTTIE WHITE HEART.         6   \n",
       "\n",
       "          InvoiceDate  UnitPrice         Country CustomerID  \n",
       "0 2010-12-01 08:26:00       2.55  United Kingdom      17850  \n",
       "1 2010-12-01 08:26:00       3.39  United Kingdom      17850  \n",
       "2 2010-12-01 08:26:00       2.75  United Kingdom      17850  \n",
       "3 2010-12-01 08:26:00       3.39  United Kingdom      17850  \n",
       "4 2010-12-01 08:26:00       3.39  United Kingdom      17850  "
      ]
     },
     "execution_count": 9,
     "metadata": {},
     "output_type": "execute_result"
    }
   ],
   "source": [
    "# Drop original CustomerID column\n",
    "df.drop(columns=[\"CustomerID\"], inplace=True)\n",
    "\n",
    "# Rename AssignedCustomerID to CustomerID\n",
    "df.rename(columns={\"AssignedCustomerID\": \"CustomerID\"}, inplace=True)\n",
    "\n",
    "# Confirm changes\n",
    "df.head()\n"
   ]
  },
  {
   "cell_type": "code",
   "execution_count": 10,
   "id": "8ff596d3-c377-418c-b024-77645405acc8",
   "metadata": {},
   "outputs": [
    {
     "data": {
      "text/plain": [
       "InvoiceNo         0\n",
       "StockCode         0\n",
       "Description    1454\n",
       "Quantity          0\n",
       "InvoiceDate       0\n",
       "UnitPrice         0\n",
       "Country           0\n",
       "CustomerID        0\n",
       "dtype: int64"
      ]
     },
     "execution_count": 10,
     "metadata": {},
     "output_type": "execute_result"
    }
   ],
   "source": [
    "df.isnull().sum()"
   ]
  },
  {
   "cell_type": "code",
   "execution_count": 11,
   "id": "996579a4-f17b-44b7-a6d3-cdf2402e74c8",
   "metadata": {},
   "outputs": [
    {
     "data": {
      "text/plain": [
       "0"
      ]
     },
     "execution_count": 11,
     "metadata": {},
     "output_type": "execute_result"
    }
   ],
   "source": [
    "df['CustomerID'].isnull().sum()"
   ]
  },
  {
   "cell_type": "code",
   "execution_count": 12,
   "id": "bcde5606-56b6-4c76-9013-ebdc0fcc91cc",
   "metadata": {},
   "outputs": [
    {
     "data": {
      "text/plain": [
       "2164"
      ]
     },
     "execution_count": 12,
     "metadata": {},
     "output_type": "execute_result"
    }
   ],
   "source": [
    "# Count the number of unique Guest IDs in the updated DataFrame\n",
    "guest_count = df[df[\"CustomerID\"].str.contains(\"Guest_\")][\"CustomerID\"].nunique()\n",
    "\n",
    "guest_count\n"
   ]
  },
  {
   "cell_type": "code",
   "execution_count": 13,
   "id": "cd43a318-63f9-4d31-87b7-8b2f6739ff18",
   "metadata": {},
   "outputs": [
    {
     "data": {
      "text/plain": [
       "count\n",
       "1      844\n",
       "2      265\n",
       "3      126\n",
       "4       73\n",
       "5       45\n",
       "      ... \n",
       "326      1\n",
       "330      1\n",
       "333      1\n",
       "335      1\n",
       "209      1\n",
       "Name: count, Length: 347, dtype: int64"
      ]
     },
     "execution_count": 13,
     "metadata": {},
     "output_type": "execute_result"
    }
   ],
   "source": [
    "# Count how many rows each Guest_X has in the updated CustomerID column\n",
    "guest_distribution = (\n",
    "    df[df[\"CustomerID\"].str.contains(\"Guest_\")]\n",
    "    [\"CustomerID\"]\n",
    "    .value_counts()\n",
    ")\n",
    "\n",
    "\n",
    "guest_distribution.value_counts()  # Number of unique guests\n"
   ]
  },
  {
   "cell_type": "code",
   "execution_count": 14,
   "id": "15c7dd1b-6b7d-4c3c-9e5d-3932d33d0f58",
   "metadata": {},
   "outputs": [
    {
     "data": {
      "text/plain": [
       "(541909, 8)"
      ]
     },
     "execution_count": 14,
     "metadata": {},
     "output_type": "execute_result"
    }
   ],
   "source": [
    "df.shape"
   ]
  },
  {
   "cell_type": "code",
   "execution_count": 15,
   "id": "91675360-8762-4ee0-98c7-dc7d00c23a36",
   "metadata": {
    "scrolled": true
   },
   "outputs": [
    {
     "data": {
      "text/html": [
       "<div>\n",
       "<style scoped>\n",
       "    .dataframe tbody tr th:only-of-type {\n",
       "        vertical-align: middle;\n",
       "    }\n",
       "\n",
       "    .dataframe tbody tr th {\n",
       "        vertical-align: top;\n",
       "    }\n",
       "\n",
       "    .dataframe thead th {\n",
       "        text-align: right;\n",
       "    }\n",
       "</style>\n",
       "<table border=\"1\" class=\"dataframe\">\n",
       "  <thead>\n",
       "    <tr style=\"text-align: right;\">\n",
       "      <th></th>\n",
       "      <th>InvoiceNo</th>\n",
       "      <th>StockCode</th>\n",
       "      <th>Description</th>\n",
       "      <th>Quantity</th>\n",
       "      <th>InvoiceDate</th>\n",
       "      <th>UnitPrice</th>\n",
       "      <th>Country</th>\n",
       "      <th>CustomerID</th>\n",
       "    </tr>\n",
       "  </thead>\n",
       "  <tbody>\n",
       "    <tr>\n",
       "      <th>0</th>\n",
       "      <td>536365</td>\n",
       "      <td>85123A</td>\n",
       "      <td>WHITE HANGING HEART T-LIGHT HOLDER</td>\n",
       "      <td>6</td>\n",
       "      <td>2010-12-01 08:26:00</td>\n",
       "      <td>2.55</td>\n",
       "      <td>United Kingdom</td>\n",
       "      <td>17850</td>\n",
       "    </tr>\n",
       "    <tr>\n",
       "      <th>1</th>\n",
       "      <td>536365</td>\n",
       "      <td>71053</td>\n",
       "      <td>WHITE METAL LANTERN</td>\n",
       "      <td>6</td>\n",
       "      <td>2010-12-01 08:26:00</td>\n",
       "      <td>3.39</td>\n",
       "      <td>United Kingdom</td>\n",
       "      <td>17850</td>\n",
       "    </tr>\n",
       "    <tr>\n",
       "      <th>2</th>\n",
       "      <td>536365</td>\n",
       "      <td>84406B</td>\n",
       "      <td>CREAM CUPID HEARTS COAT HANGER</td>\n",
       "      <td>8</td>\n",
       "      <td>2010-12-01 08:26:00</td>\n",
       "      <td>2.75</td>\n",
       "      <td>United Kingdom</td>\n",
       "      <td>17850</td>\n",
       "    </tr>\n",
       "    <tr>\n",
       "      <th>3</th>\n",
       "      <td>536365</td>\n",
       "      <td>84029G</td>\n",
       "      <td>KNITTED UNION FLAG HOT WATER BOTTLE</td>\n",
       "      <td>6</td>\n",
       "      <td>2010-12-01 08:26:00</td>\n",
       "      <td>3.39</td>\n",
       "      <td>United Kingdom</td>\n",
       "      <td>17850</td>\n",
       "    </tr>\n",
       "    <tr>\n",
       "      <th>4</th>\n",
       "      <td>536365</td>\n",
       "      <td>84029E</td>\n",
       "      <td>RED WOOLLY HOTTIE WHITE HEART.</td>\n",
       "      <td>6</td>\n",
       "      <td>2010-12-01 08:26:00</td>\n",
       "      <td>3.39</td>\n",
       "      <td>United Kingdom</td>\n",
       "      <td>17850</td>\n",
       "    </tr>\n",
       "    <tr>\n",
       "      <th>...</th>\n",
       "      <td>...</td>\n",
       "      <td>...</td>\n",
       "      <td>...</td>\n",
       "      <td>...</td>\n",
       "      <td>...</td>\n",
       "      <td>...</td>\n",
       "      <td>...</td>\n",
       "      <td>...</td>\n",
       "    </tr>\n",
       "    <tr>\n",
       "      <th>995</th>\n",
       "      <td>536520</td>\n",
       "      <td>21794</td>\n",
       "      <td>CLASSIC FRENCH STYLE BASKET NATURAL</td>\n",
       "      <td>1</td>\n",
       "      <td>2010-12-01 12:43:00</td>\n",
       "      <td>6.75</td>\n",
       "      <td>United Kingdom</td>\n",
       "      <td>14729</td>\n",
       "    </tr>\n",
       "    <tr>\n",
       "      <th>996</th>\n",
       "      <td>536520</td>\n",
       "      <td>21890</td>\n",
       "      <td>S/6 WOODEN SKITTLES IN COTTON BAG</td>\n",
       "      <td>1</td>\n",
       "      <td>2010-12-01 12:43:00</td>\n",
       "      <td>2.95</td>\n",
       "      <td>United Kingdom</td>\n",
       "      <td>14729</td>\n",
       "    </tr>\n",
       "    <tr>\n",
       "      <th>997</th>\n",
       "      <td>536520</td>\n",
       "      <td>22151</td>\n",
       "      <td>PLACE SETTING WHITE HEART</td>\n",
       "      <td>14</td>\n",
       "      <td>2010-12-01 12:43:00</td>\n",
       "      <td>0.42</td>\n",
       "      <td>United Kingdom</td>\n",
       "      <td>14729</td>\n",
       "    </tr>\n",
       "    <tr>\n",
       "      <th>998</th>\n",
       "      <td>536520</td>\n",
       "      <td>21175</td>\n",
       "      <td>GIN + TONIC DIET METAL SIGN</td>\n",
       "      <td>1</td>\n",
       "      <td>2010-12-01 12:43:00</td>\n",
       "      <td>2.10</td>\n",
       "      <td>United Kingdom</td>\n",
       "      <td>14729</td>\n",
       "    </tr>\n",
       "    <tr>\n",
       "      <th>999</th>\n",
       "      <td>536520</td>\n",
       "      <td>22642</td>\n",
       "      <td>SET OF 4 NAPKIN CHARMS STARS</td>\n",
       "      <td>4</td>\n",
       "      <td>2010-12-01 12:43:00</td>\n",
       "      <td>2.55</td>\n",
       "      <td>United Kingdom</td>\n",
       "      <td>14729</td>\n",
       "    </tr>\n",
       "  </tbody>\n",
       "</table>\n",
       "<p>1000 rows × 8 columns</p>\n",
       "</div>"
      ],
      "text/plain": [
       "    InvoiceNo StockCode                          Description  Quantity  \\\n",
       "0      536365    85123A   WHITE HANGING HEART T-LIGHT HOLDER         6   \n",
       "1      536365     71053                  WHITE METAL LANTERN         6   \n",
       "2      536365    84406B       CREAM CUPID HEARTS COAT HANGER         8   \n",
       "3      536365    84029G  KNITTED UNION FLAG HOT WATER BOTTLE         6   \n",
       "4      536365    84029E       RED WOOLLY HOTTIE WHITE HEART.         6   \n",
       "..        ...       ...                                  ...       ...   \n",
       "995    536520     21794  CLASSIC FRENCH STYLE BASKET NATURAL         1   \n",
       "996    536520     21890    S/6 WOODEN SKITTLES IN COTTON BAG         1   \n",
       "997    536520     22151            PLACE SETTING WHITE HEART        14   \n",
       "998    536520     21175          GIN + TONIC DIET METAL SIGN         1   \n",
       "999    536520     22642      SET OF 4 NAPKIN CHARMS STARS            4   \n",
       "\n",
       "            InvoiceDate  UnitPrice         Country CustomerID  \n",
       "0   2010-12-01 08:26:00       2.55  United Kingdom      17850  \n",
       "1   2010-12-01 08:26:00       3.39  United Kingdom      17850  \n",
       "2   2010-12-01 08:26:00       2.75  United Kingdom      17850  \n",
       "3   2010-12-01 08:26:00       3.39  United Kingdom      17850  \n",
       "4   2010-12-01 08:26:00       3.39  United Kingdom      17850  \n",
       "..                  ...        ...             ...        ...  \n",
       "995 2010-12-01 12:43:00       6.75  United Kingdom      14729  \n",
       "996 2010-12-01 12:43:00       2.95  United Kingdom      14729  \n",
       "997 2010-12-01 12:43:00       0.42  United Kingdom      14729  \n",
       "998 2010-12-01 12:43:00       2.10  United Kingdom      14729  \n",
       "999 2010-12-01 12:43:00       2.55  United Kingdom      14729  \n",
       "\n",
       "[1000 rows x 8 columns]"
      ]
     },
     "execution_count": 15,
     "metadata": {},
     "output_type": "execute_result"
    }
   ],
   "source": [
    "df.head(1000)"
   ]
  },
  {
   "cell_type": "code",
   "execution_count": 16,
   "id": "a1799247-39b9-4df1-a832-cc3d42a3675e",
   "metadata": {},
   "outputs": [
    {
     "data": {
      "text/plain": [
       "InvoiceNo         0\n",
       "StockCode         0\n",
       "Description    1454\n",
       "Quantity          0\n",
       "InvoiceDate       0\n",
       "UnitPrice         0\n",
       "Country           0\n",
       "CustomerID        0\n",
       "dtype: int64"
      ]
     },
     "execution_count": 16,
     "metadata": {},
     "output_type": "execute_result"
    }
   ],
   "source": [
    "df.isnull().sum()"
   ]
  },
  {
   "cell_type": "code",
   "execution_count": 17,
   "id": "c8b4be77-fbf7-47c5-a176-36660f213978",
   "metadata": {},
   "outputs": [
    {
     "data": {
      "text/plain": [
       "(0, 540455)"
      ]
     },
     "execution_count": 17,
     "metadata": {},
     "output_type": "execute_result"
    }
   ],
   "source": [
    "# Remove rows where Description is null\n",
    "df = df[df[\"Description\"].notnull()].copy()\n",
    "\n",
    "# Display number of rows removed and remaining\n",
    "rows_removed = df.shape[0] - df.shape[0]\n",
    "remaining_rows = df.shape[0]\n",
    "\n",
    "rows_removed, remaining_rows\n"
   ]
  },
  {
   "cell_type": "code",
   "execution_count": 18,
   "id": "2a08fe33-ce3e-4665-a591-a93bd6350c76",
   "metadata": {},
   "outputs": [
    {
     "data": {
      "text/plain": [
       "InvoiceNo      0\n",
       "StockCode      0\n",
       "Description    0\n",
       "Quantity       0\n",
       "InvoiceDate    0\n",
       "UnitPrice      0\n",
       "Country        0\n",
       "CustomerID     0\n",
       "dtype: int64"
      ]
     },
     "execution_count": 18,
     "metadata": {},
     "output_type": "execute_result"
    }
   ],
   "source": [
    "df.isnull().sum()"
   ]
  },
  {
   "cell_type": "markdown",
   "id": "e131ffd3",
   "metadata": {},
   "source": [
    "### 💡 Feature Engineering: `AmountSpent`"
   ]
  },
  {
   "cell_type": "markdown",
   "id": "d57b3f04",
   "metadata": {},
   "source": [
    "Calculates total value of each transaction."
   ]
  },
  {
   "cell_type": "code",
   "execution_count": 19,
   "id": "4a31f05f-e12e-4596-ac78-905c7a7f4413",
   "metadata": {},
   "outputs": [],
   "source": [
    "# Feature Engineering Step 1: Create 'AmountSpent' column\n",
    "df[\"AmountSpent\"] = df[\"Quantity\"] * df[\"UnitPrice\"]\n",
    "\n",
    "# Feature Engineering Step 2: Create 'InvoiceMonth' for monthly trends\n",
    "df[\"InvoiceMonth\"] = df[\"InvoiceDate\"].dt.to_period(\"M\")\n",
    "\n",
    "# Feature Engineering Step 3: Extract day of week\n",
    "df[\"DayOfWeek\"] = df[\"InvoiceDate\"].dt.day_name()\n",
    "\n",
    "# Feature Engineering Step 4: Extract hour of purchase\n",
    "df[\"Hour\"] = df[\"InvoiceDate\"].dt.hour\n",
    "\n",
    "# Feature Engineering Step 5: Flag for weekend purchase\n",
    "df[\"IsWeekend\"] = df[\"DayOfWeek\"].isin([\"Saturday\", \"Sunday\"]).astype(int)\n",
    "\n"
   ]
  },
  {
   "cell_type": "code",
   "execution_count": 20,
   "id": "9203e987-cb62-42c9-be98-e660451f61f1",
   "metadata": {},
   "outputs": [
    {
     "data": {
      "text/plain": [
       "InvoiceNo       0\n",
       "StockCode       0\n",
       "Description     0\n",
       "Quantity        0\n",
       "InvoiceDate     0\n",
       "UnitPrice       0\n",
       "Country         0\n",
       "CustomerID      0\n",
       "AmountSpent     0\n",
       "InvoiceMonth    0\n",
       "DayOfWeek       0\n",
       "Hour            0\n",
       "IsWeekend       0\n",
       "dtype: int64"
      ]
     },
     "execution_count": 20,
     "metadata": {},
     "output_type": "execute_result"
    }
   ],
   "source": [
    "df.isnull().sum()"
   ]
  },
  {
   "cell_type": "markdown",
   "id": "17ad5402",
   "metadata": {},
   "source": [
    "## 📊 RFM Calculation"
   ]
  },
  {
   "cell_type": "markdown",
   "id": "e4843587",
   "metadata": {},
   "source": [
    "Aggregate Recency, Frequency, and Monetary values by customer."
   ]
  },
  {
   "cell_type": "code",
   "execution_count": 21,
   "id": "59263de0-cc3e-4623-a8da-d010a0233979",
   "metadata": {},
   "outputs": [
    {
     "data": {
      "text/html": [
       "<div>\n",
       "<style scoped>\n",
       "    .dataframe tbody tr th:only-of-type {\n",
       "        vertical-align: middle;\n",
       "    }\n",
       "\n",
       "    .dataframe tbody tr th {\n",
       "        vertical-align: top;\n",
       "    }\n",
       "\n",
       "    .dataframe thead th {\n",
       "        text-align: right;\n",
       "    }\n",
       "</style>\n",
       "<table border=\"1\" class=\"dataframe\">\n",
       "  <thead>\n",
       "    <tr style=\"text-align: right;\">\n",
       "      <th></th>\n",
       "      <th>Quantity</th>\n",
       "      <th>UnitPrice</th>\n",
       "      <th>AmountSpent</th>\n",
       "      <th>BasketSize</th>\n",
       "    </tr>\n",
       "  </thead>\n",
       "  <tbody>\n",
       "    <tr>\n",
       "      <th>Quantity</th>\n",
       "      <td>1.00</td>\n",
       "      <td>-0.00</td>\n",
       "      <td>0.89</td>\n",
       "      <td>-0.02</td>\n",
       "    </tr>\n",
       "    <tr>\n",
       "      <th>UnitPrice</th>\n",
       "      <td>-0.00</td>\n",
       "      <td>1.00</td>\n",
       "      <td>-0.16</td>\n",
       "      <td>0.00</td>\n",
       "    </tr>\n",
       "    <tr>\n",
       "      <th>AmountSpent</th>\n",
       "      <td>0.89</td>\n",
       "      <td>-0.16</td>\n",
       "      <td>1.00</td>\n",
       "      <td>-0.01</td>\n",
       "    </tr>\n",
       "    <tr>\n",
       "      <th>BasketSize</th>\n",
       "      <td>-0.02</td>\n",
       "      <td>0.00</td>\n",
       "      <td>-0.01</td>\n",
       "      <td>1.00</td>\n",
       "    </tr>\n",
       "  </tbody>\n",
       "</table>\n",
       "</div>"
      ],
      "text/plain": [
       "             Quantity  UnitPrice  AmountSpent  BasketSize\n",
       "Quantity         1.00      -0.00         0.89       -0.02\n",
       "UnitPrice       -0.00       1.00        -0.16        0.00\n",
       "AmountSpent      0.89      -0.16         1.00       -0.01\n",
       "BasketSize      -0.02       0.00        -0.01        1.00"
      ]
     },
     "execution_count": 21,
     "metadata": {},
     "output_type": "execute_result"
    }
   ],
   "source": [
    "# Step 1: Add IsReturn feature\n",
    "df[\"IsReturn\"] = (df[\"Quantity\"] < 0).astype(int)\n",
    "\n",
    "# Step 2: Add BasketSize feature\n",
    "basket_size = df.groupby(\"InvoiceNo\")[\"StockCode\"].nunique().reset_index(name=\"BasketSize\")\n",
    "df = df.merge(basket_size, on=\"InvoiceNo\", how=\"left\")\n",
    "\n",
    "# Step 3: Add IsInternational feature\n",
    "df[\"IsInternational\"] = (df[\"Country\"] != \"United Kingdom\").astype(int)\n",
    "\n",
    "# Step 4: Check correlation among numeric features to identify redundancy\n",
    "correlation_matrix = df.select_dtypes(include=[\"float64\", \"int64\"]).corr()\n",
    "\n",
    "\n",
    "\n",
    "correlation_matrix.round(2)\n"
   ]
  },
  {
   "cell_type": "code",
   "execution_count": 22,
   "id": "08a784f4-a9d5-4600-b633-12a96901067b",
   "metadata": {},
   "outputs": [
    {
     "data": {
      "text/plain": [
       "{'Total Columns': 16,\n",
       " 'Numerical Columns': ['Quantity', 'UnitPrice', 'AmountSpent', 'BasketSize'],\n",
       " 'Categorical Columns': ['InvoiceNo',\n",
       "  'StockCode',\n",
       "  'Description',\n",
       "  'Country',\n",
       "  'CustomerID',\n",
       "  'DayOfWeek'],\n",
       " 'Datetime Columns': ['InvoiceDate']}"
      ]
     },
     "execution_count": 22,
     "metadata": {},
     "output_type": "execute_result"
    }
   ],
   "source": [
    "# Check how many types of variables we have (categorical, numerical, datetime, etc.)\n",
    "df_types = df.dtypes.value_counts()\n",
    "\n",
    "# Separate columns by type\n",
    "numerical_cols = df.select_dtypes(include=['int64', 'float64']).columns.tolist()\n",
    "categorical_cols = df.select_dtypes(include=['object']).columns.tolist()\n",
    "datetime_cols = df.select_dtypes(include=['datetime64[ns]']).columns.tolist()\n",
    "\n",
    "# Prepare summary\n",
    "variable_summary = {\n",
    "    \"Total Columns\": len(df.columns),\n",
    "    \"Numerical Columns\": numerical_cols,\n",
    "    \"Categorical Columns\": categorical_cols,\n",
    "    \"Datetime Columns\": datetime_cols\n",
    "}\n",
    "\n",
    "variable_summary\n"
   ]
  },
  {
   "cell_type": "markdown",
   "id": "c08b3610",
   "metadata": {},
   "source": [
    "## 📊 RFM Calculation"
   ]
  },
  {
   "cell_type": "markdown",
   "id": "a03f2236",
   "metadata": {},
   "source": [
    "Aggregate Recency, Frequency, and Monetary values by customer."
   ]
  },
  {
   "cell_type": "code",
   "execution_count": 23,
   "id": "61fdff89-f18e-47e3-aaa5-10030078d97b",
   "metadata": {},
   "outputs": [
    {
     "name": "stdout",
     "output_type": "stream",
     "text": [
      "  CustomerID  Recency  Frequency  Monetary\n",
      "0      12346      326          2      0.00\n",
      "1      12347        2          7   4310.00\n",
      "2      12348       75          4   1797.24\n",
      "3      12349       19          1   1757.55\n",
      "4      12350      310          1    334.40\n"
     ]
    }
   ],
   "source": [
    "# Ensure required columns are present\n",
    "import pandas as pd\n",
    "\n",
    "# Make sure 'InvoiceDate' is in datetime format\n",
    "df[\"InvoiceDate\"] = pd.to_datetime(df[\"InvoiceDate\"])\n",
    "\n",
    "# Create snapshot date (day after last transaction)\n",
    "snapshot_date = df[\"InvoiceDate\"].max() + pd.Timedelta(days=1)\n",
    "\n",
    "# Calculate RFM metrics\n",
    "rfm = df.groupby(\"CustomerID\").agg({\n",
    "    \"InvoiceDate\": lambda x: (snapshot_date - x.max()).days,  # Recency\n",
    "    \"InvoiceNo\": \"nunique\",                                   # Frequency\n",
    "    \"AmountSpent\": \"sum\"                                      # Monetary\n",
    "}).reset_index()\n",
    "\n",
    "# Rename columns for clarity\n",
    "rfm.columns = [\"CustomerID\", \"Recency\", \"Frequency\", \"Monetary\"]\n",
    "\n",
    "# Optional: Check result\n",
    "print(rfm.head())\n"
   ]
  },
  {
   "cell_type": "markdown",
   "id": "5af2ea69",
   "metadata": {},
   "source": [
    "## 🧠 RFM Scoring"
   ]
  },
  {
   "cell_type": "markdown",
   "id": "237c7ea8",
   "metadata": {},
   "source": [
    "Use quantile-based scoring to assign R, F, M scores to each customer."
   ]
  },
  {
   "cell_type": "code",
   "execution_count": 24,
   "id": "95361617-1d05-4f2f-a2d4-5f5d8b391c76",
   "metadata": {},
   "outputs": [],
   "source": [
    "# Recency: Lower is better, so reversed\n",
    "rfm[\"R_Score\"] = pd.qcut(rfm[\"Recency\"], 5, labels=[5, 4, 3, 2, 1])\n",
    "\n",
    "# Frequency & Monetary: Higher is better\n",
    "rfm[\"F_Score\"] = pd.qcut(rfm[\"Frequency\"].rank(method='first'), 5, labels=[1, 2, 3, 4, 5])\n",
    "rfm[\"M_Score\"] = pd.qcut(rfm[\"Monetary\"], 5, labels=[1, 2, 3, 4, 5])\n"
   ]
  },
  {
   "cell_type": "code",
   "execution_count": 25,
   "id": "3c1f3984-67bc-4676-8042-21e85f5a3319",
   "metadata": {},
   "outputs": [],
   "source": [
    "rfm[\"RFM_Segment\"] = rfm[\"R_Score\"].astype(str) + rfm[\"F_Score\"].astype(str) + rfm[\"M_Score\"].astype(str)\n"
   ]
  },
  {
   "cell_type": "code",
   "execution_count": 26,
   "id": "a2467373-b82f-4070-a7f2-21321f2770c2",
   "metadata": {},
   "outputs": [],
   "source": [
    "rfm[\"RFM_Score\"] = rfm[[\"R_Score\", \"F_Score\", \"M_Score\"]].astype(int).sum(axis=1)\n"
   ]
  },
  {
   "cell_type": "code",
   "execution_count": 27,
   "id": "309db662-b774-4e7c-9bff-633fe22c1270",
   "metadata": {},
   "outputs": [],
   "source": [
    "def segment_customer(score):\n",
    "    if score >= 9:\n",
    "        return \"Champions\"\n",
    "    elif score >= 7:\n",
    "        return \"Loyal\"\n",
    "    elif score >= 5:\n",
    "        return \"Potential\"\n",
    "    else:\n",
    "        return \"At Risk\"\n",
    "\n",
    "rfm[\"Segment\"] = rfm[\"RFM_Score\"].apply(segment_customer)\n"
   ]
  },
  {
   "cell_type": "code",
   "execution_count": 28,
   "id": "ce647622-6086-4d3a-b0fb-e0a5a063dd0b",
   "metadata": {},
   "outputs": [],
   "source": [
    "df = df.merge(rfm[[\"CustomerID\", \"RFM_Segment\", \"RFM_Score\", \"Segment\"]], on=\"CustomerID\", how=\"left\")\n"
   ]
  },
  {
   "cell_type": "code",
   "execution_count": 29,
   "id": "124f53ae-ec55-460c-98b3-7bfa89acab28",
   "metadata": {},
   "outputs": [
    {
     "data": {
      "text/html": [
       "<div>\n",
       "<style scoped>\n",
       "    .dataframe tbody tr th:only-of-type {\n",
       "        vertical-align: middle;\n",
       "    }\n",
       "\n",
       "    .dataframe tbody tr th {\n",
       "        vertical-align: top;\n",
       "    }\n",
       "\n",
       "    .dataframe thead th {\n",
       "        text-align: right;\n",
       "    }\n",
       "</style>\n",
       "<table border=\"1\" class=\"dataframe\">\n",
       "  <thead>\n",
       "    <tr style=\"text-align: right;\">\n",
       "      <th></th>\n",
       "      <th>InvoiceNo</th>\n",
       "      <th>StockCode</th>\n",
       "      <th>Description</th>\n",
       "      <th>Quantity</th>\n",
       "      <th>InvoiceDate</th>\n",
       "      <th>UnitPrice</th>\n",
       "      <th>Country</th>\n",
       "      <th>CustomerID</th>\n",
       "      <th>AmountSpent</th>\n",
       "      <th>InvoiceMonth</th>\n",
       "      <th>DayOfWeek</th>\n",
       "      <th>Hour</th>\n",
       "      <th>IsWeekend</th>\n",
       "      <th>IsReturn</th>\n",
       "      <th>BasketSize</th>\n",
       "      <th>IsInternational</th>\n",
       "      <th>RFM_Segment</th>\n",
       "      <th>RFM_Score</th>\n",
       "      <th>Segment</th>\n",
       "    </tr>\n",
       "  </thead>\n",
       "  <tbody>\n",
       "    <tr>\n",
       "      <th>0</th>\n",
       "      <td>536365</td>\n",
       "      <td>85123A</td>\n",
       "      <td>WHITE HANGING HEART T-LIGHT HOLDER</td>\n",
       "      <td>6</td>\n",
       "      <td>2010-12-01 08:26:00</td>\n",
       "      <td>2.55</td>\n",
       "      <td>United Kingdom</td>\n",
       "      <td>17850</td>\n",
       "      <td>15.30</td>\n",
       "      <td>2010-12</td>\n",
       "      <td>Wednesday</td>\n",
       "      <td>8</td>\n",
       "      <td>0</td>\n",
       "      <td>0</td>\n",
       "      <td>7</td>\n",
       "      <td>0</td>\n",
       "      <td>155</td>\n",
       "      <td>11</td>\n",
       "      <td>Champions</td>\n",
       "    </tr>\n",
       "    <tr>\n",
       "      <th>1</th>\n",
       "      <td>536365</td>\n",
       "      <td>71053</td>\n",
       "      <td>WHITE METAL LANTERN</td>\n",
       "      <td>6</td>\n",
       "      <td>2010-12-01 08:26:00</td>\n",
       "      <td>3.39</td>\n",
       "      <td>United Kingdom</td>\n",
       "      <td>17850</td>\n",
       "      <td>20.34</td>\n",
       "      <td>2010-12</td>\n",
       "      <td>Wednesday</td>\n",
       "      <td>8</td>\n",
       "      <td>0</td>\n",
       "      <td>0</td>\n",
       "      <td>7</td>\n",
       "      <td>0</td>\n",
       "      <td>155</td>\n",
       "      <td>11</td>\n",
       "      <td>Champions</td>\n",
       "    </tr>\n",
       "    <tr>\n",
       "      <th>2</th>\n",
       "      <td>536365</td>\n",
       "      <td>84406B</td>\n",
       "      <td>CREAM CUPID HEARTS COAT HANGER</td>\n",
       "      <td>8</td>\n",
       "      <td>2010-12-01 08:26:00</td>\n",
       "      <td>2.75</td>\n",
       "      <td>United Kingdom</td>\n",
       "      <td>17850</td>\n",
       "      <td>22.00</td>\n",
       "      <td>2010-12</td>\n",
       "      <td>Wednesday</td>\n",
       "      <td>8</td>\n",
       "      <td>0</td>\n",
       "      <td>0</td>\n",
       "      <td>7</td>\n",
       "      <td>0</td>\n",
       "      <td>155</td>\n",
       "      <td>11</td>\n",
       "      <td>Champions</td>\n",
       "    </tr>\n",
       "    <tr>\n",
       "      <th>3</th>\n",
       "      <td>536365</td>\n",
       "      <td>84029G</td>\n",
       "      <td>KNITTED UNION FLAG HOT WATER BOTTLE</td>\n",
       "      <td>6</td>\n",
       "      <td>2010-12-01 08:26:00</td>\n",
       "      <td>3.39</td>\n",
       "      <td>United Kingdom</td>\n",
       "      <td>17850</td>\n",
       "      <td>20.34</td>\n",
       "      <td>2010-12</td>\n",
       "      <td>Wednesday</td>\n",
       "      <td>8</td>\n",
       "      <td>0</td>\n",
       "      <td>0</td>\n",
       "      <td>7</td>\n",
       "      <td>0</td>\n",
       "      <td>155</td>\n",
       "      <td>11</td>\n",
       "      <td>Champions</td>\n",
       "    </tr>\n",
       "    <tr>\n",
       "      <th>4</th>\n",
       "      <td>536365</td>\n",
       "      <td>84029E</td>\n",
       "      <td>RED WOOLLY HOTTIE WHITE HEART.</td>\n",
       "      <td>6</td>\n",
       "      <td>2010-12-01 08:26:00</td>\n",
       "      <td>3.39</td>\n",
       "      <td>United Kingdom</td>\n",
       "      <td>17850</td>\n",
       "      <td>20.34</td>\n",
       "      <td>2010-12</td>\n",
       "      <td>Wednesday</td>\n",
       "      <td>8</td>\n",
       "      <td>0</td>\n",
       "      <td>0</td>\n",
       "      <td>7</td>\n",
       "      <td>0</td>\n",
       "      <td>155</td>\n",
       "      <td>11</td>\n",
       "      <td>Champions</td>\n",
       "    </tr>\n",
       "  </tbody>\n",
       "</table>\n",
       "</div>"
      ],
      "text/plain": [
       "  InvoiceNo StockCode                          Description  Quantity  \\\n",
       "0    536365    85123A   WHITE HANGING HEART T-LIGHT HOLDER         6   \n",
       "1    536365     71053                  WHITE METAL LANTERN         6   \n",
       "2    536365    84406B       CREAM CUPID HEARTS COAT HANGER         8   \n",
       "3    536365    84029G  KNITTED UNION FLAG HOT WATER BOTTLE         6   \n",
       "4    536365    84029E       RED WOOLLY HOTTIE WHITE HEART.         6   \n",
       "\n",
       "          InvoiceDate  UnitPrice         Country CustomerID  AmountSpent  \\\n",
       "0 2010-12-01 08:26:00       2.55  United Kingdom      17850        15.30   \n",
       "1 2010-12-01 08:26:00       3.39  United Kingdom      17850        20.34   \n",
       "2 2010-12-01 08:26:00       2.75  United Kingdom      17850        22.00   \n",
       "3 2010-12-01 08:26:00       3.39  United Kingdom      17850        20.34   \n",
       "4 2010-12-01 08:26:00       3.39  United Kingdom      17850        20.34   \n",
       "\n",
       "  InvoiceMonth  DayOfWeek  Hour  IsWeekend  IsReturn  BasketSize  \\\n",
       "0      2010-12  Wednesday     8          0         0           7   \n",
       "1      2010-12  Wednesday     8          0         0           7   \n",
       "2      2010-12  Wednesday     8          0         0           7   \n",
       "3      2010-12  Wednesday     8          0         0           7   \n",
       "4      2010-12  Wednesday     8          0         0           7   \n",
       "\n",
       "   IsInternational RFM_Segment  RFM_Score    Segment  \n",
       "0                0         155         11  Champions  \n",
       "1                0         155         11  Champions  \n",
       "2                0         155         11  Champions  \n",
       "3                0         155         11  Champions  \n",
       "4                0         155         11  Champions  "
      ]
     },
     "execution_count": 29,
     "metadata": {},
     "output_type": "execute_result"
    }
   ],
   "source": [
    "df.head()"
   ]
  },
  {
   "cell_type": "code",
   "execution_count": 30,
   "id": "b29a7c36-8afb-4a2d-b5d3-46c3164d9e70",
   "metadata": {},
   "outputs": [
    {
     "name": "stderr",
     "output_type": "stream",
     "text": [
      "C:\\Users\\smogi\\AppData\\Local\\Temp\\ipykernel_1748\\3000472562.py:5: FutureWarning: \n",
      "\n",
      "Passing `palette` without assigning `hue` is deprecated and will be removed in v0.14.0. Assign the `x` variable to `hue` and set `legend=False` for the same effect.\n",
      "\n",
      "  sns.countplot(data=rfm, x=\"Segment\", order=rfm[\"Segment\"].value_counts().index, palette=\"viridis\")\n"
     ]
    },
    {
     "data": {
      "image/png": "[encoded data removed]",
      "text/plain": [
       "<Figure size 1000x600 with 1 Axes>"
      ]
     },
     "metadata": {},
     "output_type": "display_data"
    }
   ],
   "source": [
    "import seaborn as sns\n",
    "import matplotlib.pyplot as plt\n",
    "\n",
    "plt.figure(figsize=(10,6))\n",
    "sns.countplot(data=rfm, x=\"Segment\", order=rfm[\"Segment\"].value_counts().index, palette=\"viridis\")\n",
    "plt.title(\"Customer Segments by RFM Score\")\n",
    "plt.xlabel(\"Segment\")\n",
    "plt.ylabel(\"Number of Customers\")\n",
    "plt.xticks(rotation=45)\n",
    "plt.show()\n"
   ]
  },
  {
   "cell_type": "markdown",
   "id": "ca8cc4c8",
   "metadata": {},
   "source": [
    "### 📅 Feature Engineering: `InvoiceMonth`"
   ]
  },
  {
   "cell_type": "markdown",
   "id": "e9341237",
   "metadata": {},
   "source": [
    "Extracts the month from the invoice date to analyze monthly sales trends."
   ]
  },
  {
   "cell_type": "code",
   "execution_count": 31,
   "id": "978be796-8273-4055-ad58-ffbaee547bd8",
   "metadata": {},
   "outputs": [],
   "source": [
    "df[\"InvoiceMonth\"] = df[\"InvoiceDate\"].dt.to_period(\"M\")\n",
    "cohort = df.groupby(\"CustomerID\")[\"InvoiceMonth\"].min().reset_index()\n",
    "cohort.columns = [\"CustomerID\", \"CohortMonth\"]\n",
    "df = df.merge(cohort, on=\"CustomerID\")\n"
   ]
  },
  {
   "cell_type": "markdown",
   "id": "f687fb5f",
   "metadata": {},
   "source": [
    "### 📅 Feature Engineering: `InvoiceMonth`"
   ]
  },
  {
   "cell_type": "markdown",
   "id": "69699ceb",
   "metadata": {},
   "source": [
    "Extracts the month from the invoice date to analyze monthly sales trends."
   ]
  },
  {
   "cell_type": "code",
   "execution_count": 33,
   "id": "f2789590-5515-4fbd-8f70-a50f2fb1eb8d",
   "metadata": {},
   "outputs": [
    {
     "ename": "KeyboardInterrupt",
     "evalue": "",
     "output_type": "error",
     "traceback": [
      "\u001b[1;31m---------------------------------------------------------------------------\u001b[0m",
      "\u001b[1;31mKeyboardInterrupt\u001b[0m                         Traceback (most recent call last)",
      "Cell \u001b[1;32mIn[33], line 4\u001b[0m\n\u001b[0;32m      1\u001b[0m \u001b[38;5;28;01mdef\u001b[39;00m \u001b[38;5;21mget_month_diff\u001b[39m(end, start):\n\u001b[0;32m      2\u001b[0m     \u001b[38;5;28;01mreturn\u001b[39;00m (end\u001b[38;5;241m.\u001b[39myear \u001b[38;5;241m-\u001b[39m start\u001b[38;5;241m.\u001b[39myear) \u001b[38;5;241m*\u001b[39m \u001b[38;5;241m12\u001b[39m \u001b[38;5;241m+\u001b[39m (end\u001b[38;5;241m.\u001b[39mmonth \u001b[38;5;241m-\u001b[39m start\u001b[38;5;241m.\u001b[39mmonth)\n\u001b[1;32m----> 4\u001b[0m df[\u001b[38;5;124m\"\u001b[39m\u001b[38;5;124mCohortIndex\u001b[39m\u001b[38;5;124m\"\u001b[39m] \u001b[38;5;241m=\u001b[39m df\u001b[38;5;241m.\u001b[39mapply(\u001b[38;5;28;01mlambda\u001b[39;00m row: get_month_diff(row[\u001b[38;5;124m\"\u001b[39m\u001b[38;5;124mInvoiceMonth\u001b[39m\u001b[38;5;124m\"\u001b[39m]\u001b[38;5;241m.\u001b[39mto_timestamp(), row[\u001b[38;5;124m\"\u001b[39m\u001b[38;5;124mCohortMonth\u001b[39m\u001b[38;5;124m\"\u001b[39m]\u001b[38;5;241m.\u001b[39mto_timestamp()), axis\u001b[38;5;241m=\u001b[39m\u001b[38;5;241m1\u001b[39m)\n",
      "File \u001b[1;32m~\\anaconda3\\Lib\\site-packages\\pandas\\core\\frame.py:10374\u001b[0m, in \u001b[0;36mDataFrame.apply\u001b[1;34m(self, func, axis, raw, result_type, args, by_row, engine, engine_kwargs, **kwargs)\u001b[0m\n\u001b[0;32m  10360\u001b[0m \u001b[38;5;28;01mfrom\u001b[39;00m \u001b[38;5;21;01mpandas\u001b[39;00m\u001b[38;5;21;01m.\u001b[39;00m\u001b[38;5;21;01mcore\u001b[39;00m\u001b[38;5;21;01m.\u001b[39;00m\u001b[38;5;21;01mapply\u001b[39;00m \u001b[38;5;28;01mimport\u001b[39;00m frame_apply\n\u001b[0;32m  10362\u001b[0m op \u001b[38;5;241m=\u001b[39m frame_apply(\n\u001b[0;32m  10363\u001b[0m     \u001b[38;5;28mself\u001b[39m,\n\u001b[0;32m  10364\u001b[0m     func\u001b[38;5;241m=\u001b[39mfunc,\n\u001b[1;32m   (...)\u001b[0m\n\u001b[0;32m  10372\u001b[0m     kwargs\u001b[38;5;241m=\u001b[39mkwargs,\n\u001b[0;32m  10373\u001b[0m )\n\u001b[1;32m> 10374\u001b[0m \u001b[38;5;28;01mreturn\u001b[39;00m op\u001b[38;5;241m.\u001b[39mapply()\u001b[38;5;241m.\u001b[39m__finalize__(\u001b[38;5;28mself\u001b[39m, method\u001b[38;5;241m=\u001b[39m\u001b[38;5;124m\"\u001b[39m\u001b[38;5;124mapply\u001b[39m\u001b[38;5;124m\"\u001b[39m)\n",
      "File \u001b[1;32m~\\anaconda3\\Lib\\site-packages\\pandas\\core\\apply.py:916\u001b[0m, in \u001b[0;36mFrameApply.apply\u001b[1;34m(self)\u001b[0m\n\u001b[0;32m    913\u001b[0m \u001b[38;5;28;01melif\u001b[39;00m \u001b[38;5;28mself\u001b[39m\u001b[38;5;241m.\u001b[39mraw:\n\u001b[0;32m    914\u001b[0m     \u001b[38;5;28;01mreturn\u001b[39;00m \u001b[38;5;28mself\u001b[39m\u001b[38;5;241m.\u001b[39mapply_raw(engine\u001b[38;5;241m=\u001b[39m\u001b[38;5;28mself\u001b[39m\u001b[38;5;241m.\u001b[39mengine, engine_kwargs\u001b[38;5;241m=\u001b[39m\u001b[38;5;28mself\u001b[39m\u001b[38;5;241m.\u001b[39mengine_kwargs)\n\u001b[1;32m--> 916\u001b[0m \u001b[38;5;28;01mreturn\u001b[39;00m \u001b[38;5;28mself\u001b[39m\u001b[38;5;241m.\u001b[39mapply_standard()\n",
      "File \u001b[1;32m~\\anaconda3\\Lib\\site-packages\\pandas\\core\\apply.py:1063\u001b[0m, in \u001b[0;36mFrameApply.apply_standard\u001b[1;34m(self)\u001b[0m\n\u001b[0;32m   1061\u001b[0m \u001b[38;5;28;01mdef\u001b[39;00m \u001b[38;5;21mapply_standard\u001b[39m(\u001b[38;5;28mself\u001b[39m):\n\u001b[0;32m   1062\u001b[0m     \u001b[38;5;28;01mif\u001b[39;00m \u001b[38;5;28mself\u001b[39m\u001b[38;5;241m.\u001b[39mengine \u001b[38;5;241m==\u001b[39m \u001b[38;5;124m\"\u001b[39m\u001b[38;5;124mpython\u001b[39m\u001b[38;5;124m\"\u001b[39m:\n\u001b[1;32m-> 1063\u001b[0m         results, res_index \u001b[38;5;241m=\u001b[39m \u001b[38;5;28mself\u001b[39m\u001b[38;5;241m.\u001b[39mapply_series_generator()\n\u001b[0;32m   1064\u001b[0m     \u001b[38;5;28;01melse\u001b[39;00m:\n\u001b[0;32m   1065\u001b[0m         results, res_index \u001b[38;5;241m=\u001b[39m \u001b[38;5;28mself\u001b[39m\u001b[38;5;241m.\u001b[39mapply_series_numba()\n",
      "File \u001b[1;32m~\\anaconda3\\Lib\\site-packages\\pandas\\core\\apply.py:1081\u001b[0m, in \u001b[0;36mFrameApply.apply_series_generator\u001b[1;34m(self)\u001b[0m\n\u001b[0;32m   1078\u001b[0m \u001b[38;5;28;01mwith\u001b[39;00m option_context(\u001b[38;5;124m\"\u001b[39m\u001b[38;5;124mmode.chained_assignment\u001b[39m\u001b[38;5;124m\"\u001b[39m, \u001b[38;5;28;01mNone\u001b[39;00m):\n\u001b[0;32m   1079\u001b[0m     \u001b[38;5;28;01mfor\u001b[39;00m i, v \u001b[38;5;129;01min\u001b[39;00m \u001b[38;5;28menumerate\u001b[39m(series_gen):\n\u001b[0;32m   1080\u001b[0m         \u001b[38;5;66;03m# ignore SettingWithCopy here in case the user mutates\u001b[39;00m\n\u001b[1;32m-> 1081\u001b[0m         results[i] \u001b[38;5;241m=\u001b[39m \u001b[38;5;28mself\u001b[39m\u001b[38;5;241m.\u001b[39mfunc(v, \u001b[38;5;241m*\u001b[39m\u001b[38;5;28mself\u001b[39m\u001b[38;5;241m.\u001b[39margs, \u001b[38;5;241m*\u001b[39m\u001b[38;5;241m*\u001b[39m\u001b[38;5;28mself\u001b[39m\u001b[38;5;241m.\u001b[39mkwargs)\n\u001b[0;32m   1082\u001b[0m         \u001b[38;5;28;01mif\u001b[39;00m \u001b[38;5;28misinstance\u001b[39m(results[i], ABCSeries):\n\u001b[0;32m   1083\u001b[0m             \u001b[38;5;66;03m# If we have a view on v, we need to make a copy because\u001b[39;00m\n\u001b[0;32m   1084\u001b[0m             \u001b[38;5;66;03m#  series_generator will swap out the underlying data\u001b[39;00m\n\u001b[0;32m   1085\u001b[0m             results[i] \u001b[38;5;241m=\u001b[39m results[i]\u001b[38;5;241m.\u001b[39mcopy(deep\u001b[38;5;241m=\u001b[39m\u001b[38;5;28;01mFalse\u001b[39;00m)\n",
      "Cell \u001b[1;32mIn[33], line 4\u001b[0m, in \u001b[0;36m<lambda>\u001b[1;34m(row)\u001b[0m\n\u001b[0;32m      1\u001b[0m \u001b[38;5;28;01mdef\u001b[39;00m \u001b[38;5;21mget_month_diff\u001b[39m(end, start):\n\u001b[0;32m      2\u001b[0m     \u001b[38;5;28;01mreturn\u001b[39;00m (end\u001b[38;5;241m.\u001b[39myear \u001b[38;5;241m-\u001b[39m start\u001b[38;5;241m.\u001b[39myear) \u001b[38;5;241m*\u001b[39m \u001b[38;5;241m12\u001b[39m \u001b[38;5;241m+\u001b[39m (end\u001b[38;5;241m.\u001b[39mmonth \u001b[38;5;241m-\u001b[39m start\u001b[38;5;241m.\u001b[39mmonth)\n\u001b[1;32m----> 4\u001b[0m df[\u001b[38;5;124m\"\u001b[39m\u001b[38;5;124mCohortIndex\u001b[39m\u001b[38;5;124m\"\u001b[39m] \u001b[38;5;241m=\u001b[39m df\u001b[38;5;241m.\u001b[39mapply(\u001b[38;5;28;01mlambda\u001b[39;00m row: get_month_diff(row[\u001b[38;5;124m\"\u001b[39m\u001b[38;5;124mInvoiceMonth\u001b[39m\u001b[38;5;124m\"\u001b[39m]\u001b[38;5;241m.\u001b[39mto_timestamp(), row[\u001b[38;5;124m\"\u001b[39m\u001b[38;5;124mCohortMonth\u001b[39m\u001b[38;5;124m\"\u001b[39m]\u001b[38;5;241m.\u001b[39mto_timestamp()), axis\u001b[38;5;241m=\u001b[39m\u001b[38;5;241m1\u001b[39m)\n",
      "File \u001b[1;32mperiod.pyx:1990\u001b[0m, in \u001b[0;36mpandas._libs.tslibs.period._Period.to_timestamp\u001b[1;34m()\u001b[0m\n",
      "File \u001b[1;32mperiod.pyx:1928\u001b[0m, in \u001b[0;36mpandas._libs.tslibs.period._Period.asfreq\u001b[1;34m()\u001b[0m\n",
      "File \u001b[1;32mperiod.pyx:1765\u001b[0m, in \u001b[0;36mpandas._libs.tslibs.period._Period._maybe_convert_freq\u001b[1;34m()\u001b[0m\n",
      "File \u001b[1;32moffsets.pyx:4939\u001b[0m, in \u001b[0;36mpandas._libs.tslibs.offsets.to_offset\u001b[1;34m()\u001b[0m\n",
      "File \u001b[1;32moffsets.pyx:1029\u001b[0m, in \u001b[0;36mpandas._libs.tslibs.offsets.Tick.__mul__\u001b[1;34m()\u001b[0m\n",
      "File \u001b[1;32m~\\anaconda3\\Lib\\site-packages\\numpy\\core\\numeric.py:2351\u001b[0m, in \u001b[0;36misclose\u001b[1;34m(a, b, rtol, atol, equal_nan)\u001b[0m\n\u001b[0;32m   2349\u001b[0m yfin \u001b[38;5;241m=\u001b[39m isfinite(y)\n\u001b[0;32m   2350\u001b[0m \u001b[38;5;28;01mif\u001b[39;00m \u001b[38;5;28mall\u001b[39m(xfin) \u001b[38;5;129;01mand\u001b[39;00m \u001b[38;5;28mall\u001b[39m(yfin):\n\u001b[1;32m-> 2351\u001b[0m     \u001b[38;5;28;01mreturn\u001b[39;00m within_tol(x, y, atol, rtol)\n\u001b[0;32m   2352\u001b[0m \u001b[38;5;28;01melse\u001b[39;00m:\n\u001b[0;32m   2353\u001b[0m     finite \u001b[38;5;241m=\u001b[39m xfin \u001b[38;5;241m&\u001b[39m yfin\n",
      "File \u001b[1;32m~\\anaconda3\\Lib\\site-packages\\numpy\\core\\numeric.py:2332\u001b[0m, in \u001b[0;36misclose.<locals>.within_tol\u001b[1;34m(x, y, atol, rtol)\u001b[0m\n\u001b[0;32m   2330\u001b[0m \u001b[38;5;28;01mdef\u001b[39;00m \u001b[38;5;21mwithin_tol\u001b[39m(x, y, atol, rtol):\n\u001b[0;32m   2331\u001b[0m     \u001b[38;5;28;01mwith\u001b[39;00m errstate(invalid\u001b[38;5;241m=\u001b[39m\u001b[38;5;124m'\u001b[39m\u001b[38;5;124mignore\u001b[39m\u001b[38;5;124m'\u001b[39m), _no_nep50_warning():\n\u001b[1;32m-> 2332\u001b[0m         \u001b[38;5;28;01mreturn\u001b[39;00m less_equal(\u001b[38;5;28mabs\u001b[39m(x\u001b[38;5;241m-\u001b[39my), atol \u001b[38;5;241m+\u001b[39m rtol \u001b[38;5;241m*\u001b[39m \u001b[38;5;28mabs\u001b[39m(y))\n",
      "\u001b[1;31mKeyboardInterrupt\u001b[0m: "
     ]
    }
   ],
   "source": [
    "def get_month_diff(end, start):\n",
    "    return (end.year - start.year) * 12 + (end.month - start.month)\n",
    "\n",
    "df[\"CohortIndex\"] = df.apply(lambda row: get_month_diff(row[\"InvoiceMonth\"].to_timestamp(), row[\"CohortMonth\"].to_timestamp()), axis=1)\n"
   ]
  },
  {
   "cell_type": "code",
   "execution_count": 32,
   "id": "3f301e05-45a2-4ac3-b52c-e46aee692678",
   "metadata": {},
   "outputs": [
    {
     "ename": "NameError",
     "evalue": "name 'retention' is not defined",
     "output_type": "error",
     "traceback": [
      "\u001b[1;31m---------------------------------------------------------------------------\u001b[0m",
      "\u001b[1;31mNameError\u001b[0m                                 Traceback (most recent call last)",
      "Cell \u001b[1;32mIn[32], line 2\u001b[0m\n\u001b[0;32m      1\u001b[0m plt\u001b[38;5;241m.\u001b[39mfigure(figsize\u001b[38;5;241m=\u001b[39m(\u001b[38;5;241m12\u001b[39m, \u001b[38;5;241m6\u001b[39m))\n\u001b[1;32m----> 2\u001b[0m sns\u001b[38;5;241m.\u001b[39mheatmap(retention, annot\u001b[38;5;241m=\u001b[39m\u001b[38;5;28;01mTrue\u001b[39;00m, fmt\u001b[38;5;241m=\u001b[39m\u001b[38;5;124m\"\u001b[39m\u001b[38;5;124m.0\u001b[39m\u001b[38;5;124m%\u001b[39m\u001b[38;5;124m\"\u001b[39m, cmap\u001b[38;5;241m=\u001b[39m\u001b[38;5;124m\"\u001b[39m\u001b[38;5;124mBuGn\u001b[39m\u001b[38;5;124m\"\u001b[39m)\n\u001b[0;32m      3\u001b[0m plt\u001b[38;5;241m.\u001b[39mtitle(\u001b[38;5;124m\"\u001b[39m\u001b[38;5;124mMonthly Retention Rate by Cohort\u001b[39m\u001b[38;5;124m\"\u001b[39m)\n\u001b[0;32m      4\u001b[0m plt\u001b[38;5;241m.\u001b[39mxlabel(\u001b[38;5;124m\"\u001b[39m\u001b[38;5;124mCohort Month\u001b[39m\u001b[38;5;124m\"\u001b[39m)\n",
      "\u001b[1;31mNameError\u001b[0m: name 'retention' is not defined"
     ]
    },
    {
     "data": {
      "text/plain": [
       "<Figure size 1200x600 with 0 Axes>"
      ]
     },
     "metadata": {},
     "output_type": "display_data"
    }
   ],
   "source": [
    "plt.figure(figsize=(12, 6))\n",
    "sns.heatmap(retention, annot=True, fmt=\".0%\", cmap=\"BuGn\")\n",
    "plt.title(\"Monthly Retention Rate by Cohort\")\n",
    "plt.xlabel(\"Cohort Month\")\n",
    "plt.ylabel(\"Months Since First Purchase\")\n",
    "plt.show()\n"
   ]
  },
  {
   "cell_type": "code",
   "execution_count": 35,
   "id": "1638a7f3-5d39-4056-8d23-821636e85db0",
   "metadata": {},
   "outputs": [],
   "source": [
    "rfm_clustering = rfm[[\"Recency\", \"Frequency\", \"Monetary\"]].copy()\n"
   ]
  },
  {
   "cell_type": "code",
   "execution_count": 37,
   "id": "b85a38f8-c6ea-4dff-bcb3-f7a6bdcf5fe3",
   "metadata": {},
   "outputs": [],
   "source": [
    "from sklearn.preprocessing import StandardScaler\n",
    "scaler = StandardScaler()\n",
    "rfm_scaled = scaler.fit_transform(rfm_clustering)"
   ]
  },
  {
   "cell_type": "code",
   "execution_count": 39,
   "id": "59b6ce12-bc79-4520-8db3-c5c305457fa8",
   "metadata": {},
   "outputs": [
    {
     "data": {
      "image/png": "[encoded data removed]",
      "text/plain": [
       "<Figure size 800x500 with 1 Axes>"
      ]
     },
     "metadata": {},
     "output_type": "display_data"
    }
   ],
   "source": [
    "from sklearn.cluster import KMeans\n",
    "import matplotlib.pyplot as plt\n",
    "\n",
    "sse = []\n",
    "for k in range(1, 11):\n",
    "    kmeans = KMeans(n_clusters=k, random_state=42)\n",
    "    kmeans.fit(rfm_scaled)\n",
    "    sse.append(kmeans.inertia_)\n",
    "\n",
    "plt.figure(figsize=(8,5))\n",
    "plt.plot(range(1,11), sse, marker='o')\n",
    "plt.title(\"Elbow Method - Optimal K\")\n",
    "plt.xlabel(\"Number of clusters\")\n",
    "plt.ylabel(\"SSE (Inertia)\")\n",
    "plt.show()\n"
   ]
  },
  {
   "cell_type": "code",
   "execution_count": 41,
   "id": "f4af9a26-3853-4571-aead-29b9265f375f",
   "metadata": {},
   "outputs": [],
   "source": [
    "kmeans = KMeans(n_clusters=4, random_state=42)\n",
    "rfm[\"Cluster\"] = kmeans.fit_predict(rfm_scaled)\n"
   ]
  },
  {
   "cell_type": "code",
   "execution_count": 43,
   "id": "8aed8a9c-4353-4d4b-a3c5-3a5da30b732d",
   "metadata": {},
   "outputs": [
    {
     "data": {
      "image/png": "[encoded data removed]",
      "text/plain": [
       "<Figure size 1000x600 with 1 Axes>"
      ]
     },
     "metadata": {},
     "output_type": "display_data"
    }
   ],
   "source": [
    "import seaborn as sns\n",
    "\n",
    "plt.figure(figsize=(10,6))\n",
    "sns.scatterplot(data=rfm, x=\"Recency\", y=\"Monetary\", hue=\"Cluster\", palette=\"Set2\", s=100)\n",
    "plt.title(\"Customer Segments (KMeans Clustering)\")\n",
    "plt.show()\n"
   ]
  },
  {
   "cell_type": "markdown",
   "id": "c9bcb8e8",
   "metadata": {},
   "source": [
    "## 📊 RFM Calculation"
   ]
  },
  {
   "cell_type": "markdown",
   "id": "00ff507b",
   "metadata": {},
   "source": [
    "Aggregate Recency, Frequency, and Monetary values by customer."
   ]
  },
  {
   "cell_type": "code",
   "execution_count": 45,
   "id": "aba9038d-87a2-48db-b57d-4f70f381e48b",
   "metadata": {},
   "outputs": [
    {
     "data": {
      "text/html": [
       "<div>\n",
       "<style scoped>\n",
       "    .dataframe tbody tr th:only-of-type {\n",
       "        vertical-align: middle;\n",
       "    }\n",
       "\n",
       "    .dataframe tbody tr th {\n",
       "        vertical-align: top;\n",
       "    }\n",
       "\n",
       "    .dataframe thead tr th {\n",
       "        text-align: left;\n",
       "    }\n",
       "\n",
       "    .dataframe thead tr:last-of-type th {\n",
       "        text-align: right;\n",
       "    }\n",
       "</style>\n",
       "<table border=\"1\" class=\"dataframe\">\n",
       "  <thead>\n",
       "    <tr>\n",
       "      <th></th>\n",
       "      <th colspan=\"2\" halign=\"left\">Recency</th>\n",
       "      <th colspan=\"2\" halign=\"left\">Frequency</th>\n",
       "      <th colspan=\"2\" halign=\"left\">Monetary</th>\n",
       "      <th>CustomerID</th>\n",
       "    </tr>\n",
       "    <tr>\n",
       "      <th></th>\n",
       "      <th>mean</th>\n",
       "      <th>median</th>\n",
       "      <th>mean</th>\n",
       "      <th>median</th>\n",
       "      <th>mean</th>\n",
       "      <th>median</th>\n",
       "      <th>count</th>\n",
       "    </tr>\n",
       "    <tr>\n",
       "      <th>Cluster</th>\n",
       "      <th></th>\n",
       "      <th></th>\n",
       "      <th></th>\n",
       "      <th></th>\n",
       "      <th></th>\n",
       "      <th></th>\n",
       "      <th></th>\n",
       "    </tr>\n",
       "  </thead>\n",
       "  <tbody>\n",
       "    <tr>\n",
       "      <th>0</th>\n",
       "      <td>48.1</td>\n",
       "      <td>37.0</td>\n",
       "      <td>3.7</td>\n",
       "      <td>2.0</td>\n",
       "      <td>1213.7</td>\n",
       "      <td>689.5</td>\n",
       "      <td>3860</td>\n",
       "    </tr>\n",
       "    <tr>\n",
       "      <th>1</th>\n",
       "      <td>5.1</td>\n",
       "      <td>2.0</td>\n",
       "      <td>109.9</td>\n",
       "      <td>77.0</td>\n",
       "      <td>124312.3</td>\n",
       "      <td>113384.1</td>\n",
       "      <td>11</td>\n",
       "    </tr>\n",
       "    <tr>\n",
       "      <th>2</th>\n",
       "      <td>256.2</td>\n",
       "      <td>253.0</td>\n",
       "      <td>1.7</td>\n",
       "      <td>1.0</td>\n",
       "      <td>594.6</td>\n",
       "      <td>225.8</td>\n",
       "      <td>1896</td>\n",
       "    </tr>\n",
       "    <tr>\n",
       "      <th>3</th>\n",
       "      <td>12.9</td>\n",
       "      <td>5.0</td>\n",
       "      <td>27.2</td>\n",
       "      <td>22.5</td>\n",
       "      <td>11889.3</td>\n",
       "      <td>7505.7</td>\n",
       "      <td>216</td>\n",
       "    </tr>\n",
       "  </tbody>\n",
       "</table>\n",
       "</div>"
      ],
      "text/plain": [
       "        Recency        Frequency         Monetary           CustomerID\n",
       "           mean median      mean median      mean    median      count\n",
       "Cluster                                                               \n",
       "0          48.1   37.0       3.7    2.0    1213.7     689.5       3860\n",
       "1           5.1    2.0     109.9   77.0  124312.3  113384.1         11\n",
       "2         256.2  253.0       1.7    1.0     594.6     225.8       1896\n",
       "3          12.9    5.0      27.2   22.5   11889.3    7505.7        216"
      ]
     },
     "execution_count": 45,
     "metadata": {},
     "output_type": "execute_result"
    }
   ],
   "source": [
    "rfm.groupby(\"Cluster\").agg({\n",
    "    \"Recency\": [\"mean\", \"median\"],\n",
    "    \"Frequency\": [\"mean\", \"median\"],\n",
    "    \"Monetary\": [\"mean\", \"median\"],\n",
    "    \"CustomerID\": \"count\"\n",
    "}).round(1)\n"
   ]
  },
  {
   "cell_type": "code",
   "execution_count": 47,
   "id": "82af33a8-c179-488a-8152-e05f04511eca",
   "metadata": {},
   "outputs": [],
   "source": [
    "segment_map = {\n",
    "    0: \"Low-Value\",\n",
    "    1: \"High-Value\",\n",
    "    2: \"Churned\",\n",
    "    3: \"Promising\"\n",
    "}\n",
    "rfm[\"SegmentLabel\"] = rfm[\"Cluster\"].map(segment_map)\n"
   ]
  },
  {
   "cell_type": "code",
   "execution_count": 49,
   "id": "e4ded83e-9674-4a71-b562-5201a45dbb6a",
   "metadata": {},
   "outputs": [],
   "source": [
    "df = df.merge(rfm[[\"CustomerID\", \"Cluster\", \"SegmentLabel\"]], on=\"CustomerID\", how=\"left\")\n"
   ]
  },
  {
   "cell_type": "code",
   "execution_count": 53,
   "id": "7f552bbb-4d05-48fd-b14b-a3d4963f4d26",
   "metadata": {},
   "outputs": [
    {
     "name": "stdout",
     "output_type": "stream",
     "text": [
      "Silhouette Score: 0.5840\n"
     ]
    }
   ],
   "source": [
    "from sklearn.metrics import silhouette_score\n",
    "\n",
    "# X_scaled: your scaled RFM data (e.g., using StandardScaler or MinMaxScaler)\n",
    "# kmeans: the fitted KMeans model\n",
    "\n",
    "score = silhouette_score(rfm_scaled, kmeans.labels_)\n",
    "print(f\"Silhouette Score: {score:.4f}\")\n"
   ]
  },
  {
   "cell_type": "code",
   "execution_count": 59,
   "id": "16da4f8c-573e-4a8e-bedb-d519e218e7a3",
   "metadata": {},
   "outputs": [
    {
     "data": {
      "text/html": [
       "<div>\n",
       "<style scoped>\n",
       "    .dataframe tbody tr th:only-of-type {\n",
       "        vertical-align: middle;\n",
       "    }\n",
       "\n",
       "    .dataframe tbody tr th {\n",
       "        vertical-align: top;\n",
       "    }\n",
       "\n",
       "    .dataframe thead th {\n",
       "        text-align: right;\n",
       "    }\n",
       "</style>\n",
       "<table border=\"1\" class=\"dataframe\">\n",
       "  <thead>\n",
       "    <tr style=\"text-align: right;\">\n",
       "      <th></th>\n",
       "      <th>InvoiceNo</th>\n",
       "      <th>StockCode</th>\n",
       "      <th>Description</th>\n",
       "      <th>Quantity</th>\n",
       "      <th>InvoiceDate</th>\n",
       "      <th>UnitPrice</th>\n",
       "      <th>Country</th>\n",
       "      <th>CustomerID</th>\n",
       "      <th>AmountSpent</th>\n",
       "      <th>InvoiceMonth</th>\n",
       "      <th>...</th>\n",
       "      <th>IsWeekend</th>\n",
       "      <th>IsReturn</th>\n",
       "      <th>BasketSize</th>\n",
       "      <th>IsInternational</th>\n",
       "      <th>RFM_Segment</th>\n",
       "      <th>RFM_Score</th>\n",
       "      <th>Segment</th>\n",
       "      <th>CohortMonth</th>\n",
       "      <th>Cluster</th>\n",
       "      <th>SegmentLabel</th>\n",
       "    </tr>\n",
       "  </thead>\n",
       "  <tbody>\n",
       "    <tr>\n",
       "      <th>0</th>\n",
       "      <td>536365</td>\n",
       "      <td>85123A</td>\n",
       "      <td>WHITE HANGING HEART T-LIGHT HOLDER</td>\n",
       "      <td>6</td>\n",
       "      <td>2010-12-01 08:26:00</td>\n",
       "      <td>2.55</td>\n",
       "      <td>United Kingdom</td>\n",
       "      <td>17850</td>\n",
       "      <td>15.30</td>\n",
       "      <td>2010-12</td>\n",
       "      <td>...</td>\n",
       "      <td>0</td>\n",
       "      <td>0</td>\n",
       "      <td>7</td>\n",
       "      <td>0</td>\n",
       "      <td>155</td>\n",
       "      <td>11</td>\n",
       "      <td>Champions</td>\n",
       "      <td>2010-12</td>\n",
       "      <td>3</td>\n",
       "      <td>Promising</td>\n",
       "    </tr>\n",
       "    <tr>\n",
       "      <th>1</th>\n",
       "      <td>536365</td>\n",
       "      <td>71053</td>\n",
       "      <td>WHITE METAL LANTERN</td>\n",
       "      <td>6</td>\n",
       "      <td>2010-12-01 08:26:00</td>\n",
       "      <td>3.39</td>\n",
       "      <td>United Kingdom</td>\n",
       "      <td>17850</td>\n",
       "      <td>20.34</td>\n",
       "      <td>2010-12</td>\n",
       "      <td>...</td>\n",
       "      <td>0</td>\n",
       "      <td>0</td>\n",
       "      <td>7</td>\n",
       "      <td>0</td>\n",
       "      <td>155</td>\n",
       "      <td>11</td>\n",
       "      <td>Champions</td>\n",
       "      <td>2010-12</td>\n",
       "      <td>3</td>\n",
       "      <td>Promising</td>\n",
       "    </tr>\n",
       "    <tr>\n",
       "      <th>2</th>\n",
       "      <td>536365</td>\n",
       "      <td>84406B</td>\n",
       "      <td>CREAM CUPID HEARTS COAT HANGER</td>\n",
       "      <td>8</td>\n",
       "      <td>2010-12-01 08:26:00</td>\n",
       "      <td>2.75</td>\n",
       "      <td>United Kingdom</td>\n",
       "      <td>17850</td>\n",
       "      <td>22.00</td>\n",
       "      <td>2010-12</td>\n",
       "      <td>...</td>\n",
       "      <td>0</td>\n",
       "      <td>0</td>\n",
       "      <td>7</td>\n",
       "      <td>0</td>\n",
       "      <td>155</td>\n",
       "      <td>11</td>\n",
       "      <td>Champions</td>\n",
       "      <td>2010-12</td>\n",
       "      <td>3</td>\n",
       "      <td>Promising</td>\n",
       "    </tr>\n",
       "    <tr>\n",
       "      <th>3</th>\n",
       "      <td>536365</td>\n",
       "      <td>84029G</td>\n",
       "      <td>KNITTED UNION FLAG HOT WATER BOTTLE</td>\n",
       "      <td>6</td>\n",
       "      <td>2010-12-01 08:26:00</td>\n",
       "      <td>3.39</td>\n",
       "      <td>United Kingdom</td>\n",
       "      <td>17850</td>\n",
       "      <td>20.34</td>\n",
       "      <td>2010-12</td>\n",
       "      <td>...</td>\n",
       "      <td>0</td>\n",
       "      <td>0</td>\n",
       "      <td>7</td>\n",
       "      <td>0</td>\n",
       "      <td>155</td>\n",
       "      <td>11</td>\n",
       "      <td>Champions</td>\n",
       "      <td>2010-12</td>\n",
       "      <td>3</td>\n",
       "      <td>Promising</td>\n",
       "    </tr>\n",
       "    <tr>\n",
       "      <th>4</th>\n",
       "      <td>536365</td>\n",
       "      <td>84029E</td>\n",
       "      <td>RED WOOLLY HOTTIE WHITE HEART.</td>\n",
       "      <td>6</td>\n",
       "      <td>2010-12-01 08:26:00</td>\n",
       "      <td>3.39</td>\n",
       "      <td>United Kingdom</td>\n",
       "      <td>17850</td>\n",
       "      <td>20.34</td>\n",
       "      <td>2010-12</td>\n",
       "      <td>...</td>\n",
       "      <td>0</td>\n",
       "      <td>0</td>\n",
       "      <td>7</td>\n",
       "      <td>0</td>\n",
       "      <td>155</td>\n",
       "      <td>11</td>\n",
       "      <td>Champions</td>\n",
       "      <td>2010-12</td>\n",
       "      <td>3</td>\n",
       "      <td>Promising</td>\n",
       "    </tr>\n",
       "  </tbody>\n",
       "</table>\n",
       "<p>5 rows × 22 columns</p>\n",
       "</div>"
      ],
      "text/plain": [
       "  InvoiceNo StockCode                          Description  Quantity  \\\n",
       "0    536365    85123A   WHITE HANGING HEART T-LIGHT HOLDER         6   \n",
       "1    536365     71053                  WHITE METAL LANTERN         6   \n",
       "2    536365    84406B       CREAM CUPID HEARTS COAT HANGER         8   \n",
       "3    536365    84029G  KNITTED UNION FLAG HOT WATER BOTTLE         6   \n",
       "4    536365    84029E       RED WOOLLY HOTTIE WHITE HEART.         6   \n",
       "\n",
       "          InvoiceDate  UnitPrice         Country CustomerID  AmountSpent  \\\n",
       "0 2010-12-01 08:26:00       2.55  United Kingdom      17850        15.30   \n",
       "1 2010-12-01 08:26:00       3.39  United Kingdom      17850        20.34   \n",
       "2 2010-12-01 08:26:00       2.75  United Kingdom      17850        22.00   \n",
       "3 2010-12-01 08:26:00       3.39  United Kingdom      17850        20.34   \n",
       "4 2010-12-01 08:26:00       3.39  United Kingdom      17850        20.34   \n",
       "\n",
       "  InvoiceMonth  ... IsWeekend  IsReturn  BasketSize  IsInternational  \\\n",
       "0      2010-12  ...         0         0           7                0   \n",
       "1      2010-12  ...         0         0           7                0   \n",
       "2      2010-12  ...         0         0           7                0   \n",
       "3      2010-12  ...         0         0           7                0   \n",
       "4      2010-12  ...         0         0           7                0   \n",
       "\n",
       "   RFM_Segment  RFM_Score    Segment  CohortMonth Cluster SegmentLabel  \n",
       "0          155         11  Champions      2010-12       3    Promising  \n",
       "1          155         11  Champions      2010-12       3    Promising  \n",
       "2          155         11  Champions      2010-12       3    Promising  \n",
       "3          155         11  Champions      2010-12       3    Promising  \n",
       "4          155         11  Champions      2010-12       3    Promising  \n",
       "\n",
       "[5 rows x 22 columns]"
      ]
     },
     "execution_count": 59,
     "metadata": {},
     "output_type": "execute_result"
    }
   ],
   "source": [
    "df.head()"
   ]
  },
  {
   "cell_type": "code",
   "execution_count": 61,
   "id": "cec12396-119d-45ee-8f8d-7114a9ea400a",
   "metadata": {},
   "outputs": [
    {
     "data": {
      "text/html": [
       "<div>\n",
       "<style scoped>\n",
       "    .dataframe tbody tr th:only-of-type {\n",
       "        vertical-align: middle;\n",
       "    }\n",
       "\n",
       "    .dataframe tbody tr th {\n",
       "        vertical-align: top;\n",
       "    }\n",
       "\n",
       "    .dataframe thead th {\n",
       "        text-align: right;\n",
       "    }\n",
       "</style>\n",
       "<table border=\"1\" class=\"dataframe\">\n",
       "  <thead>\n",
       "    <tr style=\"text-align: right;\">\n",
       "      <th></th>\n",
       "      <th>Recency</th>\n",
       "      <th>Frequency</th>\n",
       "      <th>Monetary</th>\n",
       "    </tr>\n",
       "  </thead>\n",
       "  <tbody>\n",
       "    <tr>\n",
       "      <th>0</th>\n",
       "      <td>326</td>\n",
       "      <td>2</td>\n",
       "      <td>0.00</td>\n",
       "    </tr>\n",
       "    <tr>\n",
       "      <th>1</th>\n",
       "      <td>2</td>\n",
       "      <td>7</td>\n",
       "      <td>4310.00</td>\n",
       "    </tr>\n",
       "    <tr>\n",
       "      <th>2</th>\n",
       "      <td>75</td>\n",
       "      <td>4</td>\n",
       "      <td>1797.24</td>\n",
       "    </tr>\n",
       "    <tr>\n",
       "      <th>3</th>\n",
       "      <td>19</td>\n",
       "      <td>1</td>\n",
       "      <td>1757.55</td>\n",
       "    </tr>\n",
       "    <tr>\n",
       "      <th>4</th>\n",
       "      <td>310</td>\n",
       "      <td>1</td>\n",
       "      <td>334.40</td>\n",
       "    </tr>\n",
       "  </tbody>\n",
       "</table>\n",
       "</div>"
      ],
      "text/plain": [
       "   Recency  Frequency  Monetary\n",
       "0      326          2      0.00\n",
       "1        2          7   4310.00\n",
       "2       75          4   1797.24\n",
       "3       19          1   1757.55\n",
       "4      310          1    334.40"
      ]
     },
     "execution_count": 61,
     "metadata": {},
     "output_type": "execute_result"
    }
   ],
   "source": [
    "rfm_clustering.head()\n"
   ]
  },
  {
   "cell_type": "code",
   "execution_count": 65,
   "id": "2fbd1a7b-07a6-4f80-a113-7fd84c3c1331",
   "metadata": {},
   "outputs": [
    {
     "data": {
      "text/html": [
       "<div>\n",
       "<style scoped>\n",
       "    .dataframe tbody tr th:only-of-type {\n",
       "        vertical-align: middle;\n",
       "    }\n",
       "\n",
       "    .dataframe tbody tr th {\n",
       "        vertical-align: top;\n",
       "    }\n",
       "\n",
       "    .dataframe thead th {\n",
       "        text-align: right;\n",
       "    }\n",
       "</style>\n",
       "<table border=\"1\" class=\"dataframe\">\n",
       "  <thead>\n",
       "    <tr style=\"text-align: right;\">\n",
       "      <th></th>\n",
       "      <th>CustomerID</th>\n",
       "      <th>Recency</th>\n",
       "      <th>Frequency</th>\n",
       "      <th>Monetary</th>\n",
       "      <th>R_Score</th>\n",
       "      <th>F_Score</th>\n",
       "      <th>M_Score</th>\n",
       "      <th>RFM_Segment</th>\n",
       "      <th>RFM_Score</th>\n",
       "      <th>Segment</th>\n",
       "      <th>Cluster</th>\n",
       "      <th>SegmentLabel</th>\n",
       "    </tr>\n",
       "  </thead>\n",
       "  <tbody>\n",
       "    <tr>\n",
       "      <th>0</th>\n",
       "      <td>12346</td>\n",
       "      <td>326</td>\n",
       "      <td>2</td>\n",
       "      <td>0.00</td>\n",
       "      <td>1</td>\n",
       "      <td>3</td>\n",
       "      <td>1</td>\n",
       "      <td>131</td>\n",
       "      <td>5</td>\n",
       "      <td>Potential</td>\n",
       "      <td>2</td>\n",
       "      <td>Churned</td>\n",
       "    </tr>\n",
       "    <tr>\n",
       "      <th>1</th>\n",
       "      <td>12347</td>\n",
       "      <td>2</td>\n",
       "      <td>7</td>\n",
       "      <td>4310.00</td>\n",
       "      <td>5</td>\n",
       "      <td>5</td>\n",
       "      <td>5</td>\n",
       "      <td>555</td>\n",
       "      <td>15</td>\n",
       "      <td>Champions</td>\n",
       "      <td>0</td>\n",
       "      <td>Low-Value</td>\n",
       "    </tr>\n",
       "    <tr>\n",
       "      <th>2</th>\n",
       "      <td>12348</td>\n",
       "      <td>75</td>\n",
       "      <td>4</td>\n",
       "      <td>1797.24</td>\n",
       "      <td>3</td>\n",
       "      <td>4</td>\n",
       "      <td>4</td>\n",
       "      <td>344</td>\n",
       "      <td>11</td>\n",
       "      <td>Champions</td>\n",
       "      <td>0</td>\n",
       "      <td>Low-Value</td>\n",
       "    </tr>\n",
       "    <tr>\n",
       "      <th>3</th>\n",
       "      <td>12349</td>\n",
       "      <td>19</td>\n",
       "      <td>1</td>\n",
       "      <td>1757.55</td>\n",
       "      <td>4</td>\n",
       "      <td>1</td>\n",
       "      <td>4</td>\n",
       "      <td>414</td>\n",
       "      <td>9</td>\n",
       "      <td>Champions</td>\n",
       "      <td>0</td>\n",
       "      <td>Low-Value</td>\n",
       "    </tr>\n",
       "    <tr>\n",
       "      <th>4</th>\n",
       "      <td>12350</td>\n",
       "      <td>310</td>\n",
       "      <td>1</td>\n",
       "      <td>334.40</td>\n",
       "      <td>1</td>\n",
       "      <td>1</td>\n",
       "      <td>2</td>\n",
       "      <td>112</td>\n",
       "      <td>4</td>\n",
       "      <td>At Risk</td>\n",
       "      <td>2</td>\n",
       "      <td>Churned</td>\n",
       "    </tr>\n",
       "  </tbody>\n",
       "</table>\n",
       "</div>"
      ],
      "text/plain": [
       "  CustomerID  Recency  Frequency  Monetary R_Score F_Score M_Score  \\\n",
       "0      12346      326          2      0.00       1       3       1   \n",
       "1      12347        2          7   4310.00       5       5       5   \n",
       "2      12348       75          4   1797.24       3       4       4   \n",
       "3      12349       19          1   1757.55       4       1       4   \n",
       "4      12350      310          1    334.40       1       1       2   \n",
       "\n",
       "  RFM_Segment  RFM_Score    Segment  Cluster SegmentLabel  \n",
       "0         131          5  Potential        2      Churned  \n",
       "1         555         15  Champions        0    Low-Value  \n",
       "2         344         11  Champions        0    Low-Value  \n",
       "3         414          9  Champions        0    Low-Value  \n",
       "4         112          4    At Risk        2      Churned  "
      ]
     },
     "execution_count": 65,
     "metadata": {},
     "output_type": "execute_result"
    }
   ],
   "source": [
    "rfm.head()"
   ]
  },
  {
   "cell_type": "code",
   "execution_count": 67,
   "id": "337ac7d9-e26a-4fa2-b9d3-06a2cb270b5a",
   "metadata": {
    "scrolled": true
   },
   "outputs": [
    {
     "data": {
      "image/png": "[encoded data removed]",
      "text/plain": [
       "<Figure size 1400x400 with 3 Axes>"
      ]
     },
     "metadata": {},
     "output_type": "display_data"
    }
   ],
   "source": [
    "import matplotlib.pyplot as plt\n",
    "import seaborn as sns\n",
    "\n",
    "# Reload necessary objects assuming the session was reset\n",
    "# Recreate the RFM clusters from last saved state\n",
    "# We'll simulate the visualization from stored cluster_profile if available\n",
    "\n",
    "# 1. Visualize RFM clusters\n",
    "plt.figure(figsize=(14, 4))\n",
    "\n",
    "# Recency\n",
    "plt.subplot(1, 3, 1)\n",
    "sns.boxplot(x='Cluster', y='Recency', data=rfm)\n",
    "plt.title('Recency by Cluster')\n",
    "\n",
    "# Frequency\n",
    "plt.subplot(1, 3, 2)\n",
    "sns.boxplot(x='Cluster', y='Frequency', data=rfm)\n",
    "plt.title('Frequency by Cluster')\n",
    "\n",
    "# Monetary\n",
    "plt.subplot(1, 3, 3)\n",
    "sns.boxplot(x='Cluster', y='Monetary', data=rfm)\n",
    "plt.title('Monetary by Cluster')\n",
    "\n",
    "plt.tight_layout()\n",
    "plt.show()\n"
   ]
  },
  {
   "cell_type": "markdown",
   "id": "e356950f-04bb-49bf-b743-31513eb0353c",
   "metadata": {},
   "source": [
    "###RFM BEHAVIOUR OVER TIME"
   ]
  },
  {
   "cell_type": "code",
   "execution_count": 69,
   "id": "cdf0ac06-ee19-44ce-bb16-3add76543a6e",
   "metadata": {},
   "outputs": [
    {
     "data": {
      "text/html": [
       "<div>\n",
       "<style scoped>\n",
       "    .dataframe tbody tr th:only-of-type {\n",
       "        vertical-align: middle;\n",
       "    }\n",
       "\n",
       "    .dataframe tbody tr th {\n",
       "        vertical-align: top;\n",
       "    }\n",
       "\n",
       "    .dataframe thead th {\n",
       "        text-align: right;\n",
       "    }\n",
       "</style>\n",
       "<table border=\"1\" class=\"dataframe\">\n",
       "  <thead>\n",
       "    <tr style=\"text-align: right;\">\n",
       "      <th></th>\n",
       "      <th>InvoiceNo</th>\n",
       "      <th>StockCode</th>\n",
       "      <th>Description</th>\n",
       "      <th>Quantity</th>\n",
       "      <th>InvoiceDate</th>\n",
       "      <th>UnitPrice</th>\n",
       "      <th>Country</th>\n",
       "      <th>CustomerID</th>\n",
       "      <th>AmountSpent</th>\n",
       "      <th>InvoiceMonth</th>\n",
       "      <th>...</th>\n",
       "      <th>IsWeekend</th>\n",
       "      <th>IsReturn</th>\n",
       "      <th>BasketSize</th>\n",
       "      <th>IsInternational</th>\n",
       "      <th>RFM_Segment</th>\n",
       "      <th>RFM_Score</th>\n",
       "      <th>Segment</th>\n",
       "      <th>CohortMonth</th>\n",
       "      <th>Cluster</th>\n",
       "      <th>SegmentLabel</th>\n",
       "    </tr>\n",
       "  </thead>\n",
       "  <tbody>\n",
       "    <tr>\n",
       "      <th>0</th>\n",
       "      <td>536365</td>\n",
       "      <td>85123A</td>\n",
       "      <td>WHITE HANGING HEART T-LIGHT HOLDER</td>\n",
       "      <td>6</td>\n",
       "      <td>2010-12-01 08:26:00</td>\n",
       "      <td>2.55</td>\n",
       "      <td>United Kingdom</td>\n",
       "      <td>17850</td>\n",
       "      <td>15.30</td>\n",
       "      <td>2010-12</td>\n",
       "      <td>...</td>\n",
       "      <td>0</td>\n",
       "      <td>0</td>\n",
       "      <td>7</td>\n",
       "      <td>0</td>\n",
       "      <td>155</td>\n",
       "      <td>11</td>\n",
       "      <td>Champions</td>\n",
       "      <td>2010-12</td>\n",
       "      <td>3</td>\n",
       "      <td>Promising</td>\n",
       "    </tr>\n",
       "    <tr>\n",
       "      <th>1</th>\n",
       "      <td>536365</td>\n",
       "      <td>71053</td>\n",
       "      <td>WHITE METAL LANTERN</td>\n",
       "      <td>6</td>\n",
       "      <td>2010-12-01 08:26:00</td>\n",
       "      <td>3.39</td>\n",
       "      <td>United Kingdom</td>\n",
       "      <td>17850</td>\n",
       "      <td>20.34</td>\n",
       "      <td>2010-12</td>\n",
       "      <td>...</td>\n",
       "      <td>0</td>\n",
       "      <td>0</td>\n",
       "      <td>7</td>\n",
       "      <td>0</td>\n",
       "      <td>155</td>\n",
       "      <td>11</td>\n",
       "      <td>Champions</td>\n",
       "      <td>2010-12</td>\n",
       "      <td>3</td>\n",
       "      <td>Promising</td>\n",
       "    </tr>\n",
       "    <tr>\n",
       "      <th>2</th>\n",
       "      <td>536365</td>\n",
       "      <td>84406B</td>\n",
       "      <td>CREAM CUPID HEARTS COAT HANGER</td>\n",
       "      <td>8</td>\n",
       "      <td>2010-12-01 08:26:00</td>\n",
       "      <td>2.75</td>\n",
       "      <td>United Kingdom</td>\n",
       "      <td>17850</td>\n",
       "      <td>22.00</td>\n",
       "      <td>2010-12</td>\n",
       "      <td>...</td>\n",
       "      <td>0</td>\n",
       "      <td>0</td>\n",
       "      <td>7</td>\n",
       "      <td>0</td>\n",
       "      <td>155</td>\n",
       "      <td>11</td>\n",
       "      <td>Champions</td>\n",
       "      <td>2010-12</td>\n",
       "      <td>3</td>\n",
       "      <td>Promising</td>\n",
       "    </tr>\n",
       "    <tr>\n",
       "      <th>3</th>\n",
       "      <td>536365</td>\n",
       "      <td>84029G</td>\n",
       "      <td>KNITTED UNION FLAG HOT WATER BOTTLE</td>\n",
       "      <td>6</td>\n",
       "      <td>2010-12-01 08:26:00</td>\n",
       "      <td>3.39</td>\n",
       "      <td>United Kingdom</td>\n",
       "      <td>17850</td>\n",
       "      <td>20.34</td>\n",
       "      <td>2010-12</td>\n",
       "      <td>...</td>\n",
       "      <td>0</td>\n",
       "      <td>0</td>\n",
       "      <td>7</td>\n",
       "      <td>0</td>\n",
       "      <td>155</td>\n",
       "      <td>11</td>\n",
       "      <td>Champions</td>\n",
       "      <td>2010-12</td>\n",
       "      <td>3</td>\n",
       "      <td>Promising</td>\n",
       "    </tr>\n",
       "    <tr>\n",
       "      <th>4</th>\n",
       "      <td>536365</td>\n",
       "      <td>84029E</td>\n",
       "      <td>RED WOOLLY HOTTIE WHITE HEART.</td>\n",
       "      <td>6</td>\n",
       "      <td>2010-12-01 08:26:00</td>\n",
       "      <td>3.39</td>\n",
       "      <td>United Kingdom</td>\n",
       "      <td>17850</td>\n",
       "      <td>20.34</td>\n",
       "      <td>2010-12</td>\n",
       "      <td>...</td>\n",
       "      <td>0</td>\n",
       "      <td>0</td>\n",
       "      <td>7</td>\n",
       "      <td>0</td>\n",
       "      <td>155</td>\n",
       "      <td>11</td>\n",
       "      <td>Champions</td>\n",
       "      <td>2010-12</td>\n",
       "      <td>3</td>\n",
       "      <td>Promising</td>\n",
       "    </tr>\n",
       "  </tbody>\n",
       "</table>\n",
       "<p>5 rows × 22 columns</p>\n",
       "</div>"
      ],
      "text/plain": [
       "  InvoiceNo StockCode                          Description  Quantity  \\\n",
       "0    536365    85123A   WHITE HANGING HEART T-LIGHT HOLDER         6   \n",
       "1    536365     71053                  WHITE METAL LANTERN         6   \n",
       "2    536365    84406B       CREAM CUPID HEARTS COAT HANGER         8   \n",
       "3    536365    84029G  KNITTED UNION FLAG HOT WATER BOTTLE         6   \n",
       "4    536365    84029E       RED WOOLLY HOTTIE WHITE HEART.         6   \n",
       "\n",
       "          InvoiceDate  UnitPrice         Country CustomerID  AmountSpent  \\\n",
       "0 2010-12-01 08:26:00       2.55  United Kingdom      17850        15.30   \n",
       "1 2010-12-01 08:26:00       3.39  United Kingdom      17850        20.34   \n",
       "2 2010-12-01 08:26:00       2.75  United Kingdom      17850        22.00   \n",
       "3 2010-12-01 08:26:00       3.39  United Kingdom      17850        20.34   \n",
       "4 2010-12-01 08:26:00       3.39  United Kingdom      17850        20.34   \n",
       "\n",
       "  InvoiceMonth  ... IsWeekend  IsReturn  BasketSize  IsInternational  \\\n",
       "0      2010-12  ...         0         0           7                0   \n",
       "1      2010-12  ...         0         0           7                0   \n",
       "2      2010-12  ...         0         0           7                0   \n",
       "3      2010-12  ...         0         0           7                0   \n",
       "4      2010-12  ...         0         0           7                0   \n",
       "\n",
       "   RFM_Segment  RFM_Score    Segment  CohortMonth Cluster SegmentLabel  \n",
       "0          155         11  Champions      2010-12       3    Promising  \n",
       "1          155         11  Champions      2010-12       3    Promising  \n",
       "2          155         11  Champions      2010-12       3    Promising  \n",
       "3          155         11  Champions      2010-12       3    Promising  \n",
       "4          155         11  Champions      2010-12       3    Promising  \n",
       "\n",
       "[5 rows x 22 columns]"
      ]
     },
     "execution_count": 69,
     "metadata": {},
     "output_type": "execute_result"
    }
   ],
   "source": [
    "df.head()"
   ]
  },
  {
   "cell_type": "markdown",
   "id": "45397c67",
   "metadata": {},
   "source": [
    "### 📅 Feature Engineering: `InvoiceMonth`"
   ]
  },
  {
   "cell_type": "markdown",
   "id": "c470cd92",
   "metadata": {},
   "source": [
    "Extracts the month from the invoice date to analyze monthly sales trends."
   ]
  },
  {
   "cell_type": "code",
   "execution_count": 73,
   "id": "f6368c66-0f7b-4917-9b20-ebbea12b726b",
   "metadata": {},
   "outputs": [],
   "source": [
    "# Ensure InvoiceDate is datetime\n",
    "df['InvoiceDate'] = pd.to_datetime(df['InvoiceDate'])\n",
    "\n",
    "# Extract month\n",
    "df['InvoiceMonth'] = df['InvoiceDate'].dt.to_period('M')\n",
    "\n",
    "# Monthly RFM for each customer\n",
    "monthly_rfm = df.groupby(['CustomerID', 'InvoiceMonth']).agg({\n",
    "    'InvoiceDate': lambda x: (snapshot_date - x.max()).days,\n",
    "    'InvoiceNo': 'nunique',\n",
    "    'AmountSpent': 'sum'\n",
    "}).reset_index()\n",
    "\n",
    "monthly_rfm.columns = ['CustomerID', 'Month', 'Recency', 'Frequency', 'Monetary']\n"
   ]
  },
  {
   "cell_type": "code",
   "execution_count": 75,
   "id": "3e52e1c7-d172-45f8-a57e-5451a47c99ae",
   "metadata": {},
   "outputs": [
    {
     "data": {
      "text/html": [
       "<div>\n",
       "<style scoped>\n",
       "    .dataframe tbody tr th:only-of-type {\n",
       "        vertical-align: middle;\n",
       "    }\n",
       "\n",
       "    .dataframe tbody tr th {\n",
       "        vertical-align: top;\n",
       "    }\n",
       "\n",
       "    .dataframe thead th {\n",
       "        text-align: right;\n",
       "    }\n",
       "</style>\n",
       "<table border=\"1\" class=\"dataframe\">\n",
       "  <thead>\n",
       "    <tr style=\"text-align: right;\">\n",
       "      <th></th>\n",
       "      <th>CustomerID</th>\n",
       "      <th>Month</th>\n",
       "      <th>Recency</th>\n",
       "      <th>Frequency</th>\n",
       "      <th>Monetary</th>\n",
       "    </tr>\n",
       "  </thead>\n",
       "  <tbody>\n",
       "    <tr>\n",
       "      <th>0</th>\n",
       "      <td>12346</td>\n",
       "      <td>2011-01</td>\n",
       "      <td>326</td>\n",
       "      <td>2</td>\n",
       "      <td>0.00</td>\n",
       "    </tr>\n",
       "    <tr>\n",
       "      <th>1</th>\n",
       "      <td>12347</td>\n",
       "      <td>2010-12</td>\n",
       "      <td>367</td>\n",
       "      <td>1</td>\n",
       "      <td>711.79</td>\n",
       "    </tr>\n",
       "    <tr>\n",
       "      <th>2</th>\n",
       "      <td>12347</td>\n",
       "      <td>2011-01</td>\n",
       "      <td>317</td>\n",
       "      <td>1</td>\n",
       "      <td>475.39</td>\n",
       "    </tr>\n",
       "    <tr>\n",
       "      <th>3</th>\n",
       "      <td>12347</td>\n",
       "      <td>2011-04</td>\n",
       "      <td>247</td>\n",
       "      <td>1</td>\n",
       "      <td>636.25</td>\n",
       "    </tr>\n",
       "    <tr>\n",
       "      <th>4</th>\n",
       "      <td>12347</td>\n",
       "      <td>2011-06</td>\n",
       "      <td>183</td>\n",
       "      <td>1</td>\n",
       "      <td>382.52</td>\n",
       "    </tr>\n",
       "  </tbody>\n",
       "</table>\n",
       "</div>"
      ],
      "text/plain": [
       "  CustomerID    Month  Recency  Frequency  Monetary\n",
       "0      12346  2011-01      326          2      0.00\n",
       "1      12347  2010-12      367          1    711.79\n",
       "2      12347  2011-01      317          1    475.39\n",
       "3      12347  2011-04      247          1    636.25\n",
       "4      12347  2011-06      183          1    382.52"
      ]
     },
     "execution_count": 75,
     "metadata": {},
     "output_type": "execute_result"
    }
   ],
   "source": [
    "monthly_rfm.head()"
   ]
  },
  {
   "cell_type": "code",
   "execution_count": 83,
   "id": "8cdde186-345f-4bfb-a7f7-6e78852ddaa8",
   "metadata": {},
   "outputs": [
    {
     "name": "stderr",
     "output_type": "stream",
     "text": [
      "C:\\Users\\smogi\\AppData\\Local\\Temp\\ipykernel_1748\\4186622164.py:8: SettingWithCopyWarning: \n",
      "A value is trying to be set on a copy of a slice from a DataFrame.\n",
      "Try using .loc[row_indexer,col_indexer] = value instead\n",
      "\n",
      "See the caveats in the documentation: https://pandas.pydata.org/pandas-docs/stable/user_guide/indexing.html#returning-a-view-versus-a-copy\n",
      "  sample_rfm['Month'] = sample_rfm['Month'].astype(str)\n"
     ]
    }
   ],
   "source": [
    "import seaborn as sns\n",
    "import matplotlib.pyplot as plt\n",
    "\n",
    "# Select top N customers for visualization\n",
    "top_customers = monthly_rfm['CustomerID'].value_counts().head(5).index\n",
    "sample_rfm = monthly_rfm[monthly_rfm['CustomerID'].isin(top_customers)]\n",
    "\n",
    "sample_rfm['Month'] = sample_rfm['Month'].astype(str)\n"
   ]
  },
  {
   "cell_type": "code",
   "execution_count": 85,
   "id": "0b197d07-9bbc-49d2-a937-52ba12d8bc69",
   "metadata": {},
   "outputs": [
    {
     "data": {
      "image/png": "[encoded data removed]",
      "text/plain": [
       "<Figure size 1600x400 with 3 Axes>"
      ]
     },
     "metadata": {},
     "output_type": "display_data"
    }
   ],
   "source": [
    "# Plot trends\n",
    "plt.figure(figsize=(16, 4))\n",
    "for metric in ['Recency', 'Frequency', 'Monetary']:\n",
    "    plt.subplot(1, 3, ['Recency', 'Frequency', 'Monetary'].index(metric)+1)\n",
    "    sns.lineplot(data=sample_rfm, x='Month', y=metric, hue='CustomerID', marker='o')\n",
    "    plt.title(f'{metric} Trend Over Time')\n",
    "    plt.xticks(rotation=45)\n",
    "plt.tight_layout()\n",
    "plt.show()\n"
   ]
  },
  {
   "cell_type": "code",
   "execution_count": 93,
   "id": "3f9f312d-e60e-41b9-bc91-79950af8776e",
   "metadata": {},
   "outputs": [
    {
     "data": {
      "text/plain": [
       "'\\n# === Save Checkpoints for Important Stages ===\\n\\n# 1. After guest ID assignment and cleaning\\ndf.to_csv(\"retail_cleaned_with_guest_ids.csv\", index=False)\\n\\n# 2. After RFM Feature Engineering\\nrfm.to_csv(\"rfm_features.csv\", index=False)\\n\\n# 3. After Clustering\\nrfm_clustering.to_csv(\"rfm_with_clusters.csv\", index=False)\\n\\n# 4. Final merged dataset\\ndf.to_csv(\"retail_final_clustered.csv\", index=False)\\n\\n# Optionally save as Pickle for faster reload later\\ndf.to_pickle(\"retail_final_clustered.pkl\")\\nrfm_clustering.to_pickle(\"rfm_with_clusters.pkl\")\\n'"
      ]
     },
     "execution_count": 93,
     "metadata": {},
     "output_type": "execute_result"
    }
   ],
   "source": [
    "# Let's define checkpoint-saving code for various stages (modularized as reusable function calls)\n",
    "\n",
    "# Save code checkpoints\n",
    "checkpoints_code = \"\"\"\n",
    "# === Save Checkpoints for Important Stages ===\n",
    "\n",
    "1. After guest ID assignment and cleaning\n",
    "df.to_csv(\"retail_cleaned_with_guest_ids.csv\", index=False)\n",
    "\n",
    "# 2. After RFM Feature Engineering\n",
    "rfm.to_csv(\"rfm_features.csv\", index=False)\n",
    "\n",
    "# 3. After Clustering\n",
    "rfm_clustering.to_csv(\"rfm_with_clusters.csv\", index=False)\n",
    "\n",
    "# 4. Final merged dataset\n",
    "df.to_csv(\"retail_final_clustered.csv\", index=False)\n",
    "\n",
    "# Optionally save as Pickle for faster reload later\n",
    "df.to_pickle(\"retail_final_clustered.pkl\")\n",
    "rfm_clustering.to_pickle(\"rfm_with_clusters.pkl\")\n",
    "\"\"\"\n",
    "\n",
    "# Display for user\n",
    "checkpoints_code\n"
   ]
  },
  {
   "cell_type": "code",
   "execution_count": 95,
   "id": "13e28135-4dda-4020-9e2f-622e7a2f20c4",
   "metadata": {},
   "outputs": [],
   "source": [
    "df.to_csv(\"retail_cleaned_with_guest_ids.csv\", index=False)"
   ]
  },
  {
   "cell_type": "code",
   "execution_count": 97,
   "id": "50ea9de0-962c-484e-8c4a-238d51a251e0",
   "metadata": {},
   "outputs": [],
   "source": [
    "rfm.to_csv(\"rfm_features.csv\", index=False)"
   ]
  },
  {
   "cell_type": "code",
   "execution_count": 99,
   "id": "21fa8b07-f685-48d3-945f-69f7f5037175",
   "metadata": {},
   "outputs": [],
   "source": [
    "df.to_csv(\"retail_final_clustered.csv\", index=False)"
   ]
  },
  {
   "cell_type": "code",
   "execution_count": 101,
   "id": "be41d494-dbe4-4793-a19a-93f4f44a44b0",
   "metadata": {},
   "outputs": [],
   "source": [
    "df.to_pickle(\"retail_final_clustered.pkl\")"
   ]
  },
  {
   "cell_type": "code",
   "execution_count": 103,
   "id": "ddb4aa40-e47f-4150-a846-11edc088ae82",
   "metadata": {},
   "outputs": [],
   "source": [
    "rfm_clustering.to_pickle(\"rfm_with_clusters.pkl\")"
   ]
  },
  {
   "cell_type": "markdown",
   "id": "d2cdc1a7",
   "metadata": {},
   "source": [
    "\n",
    "---\n",
    "\n",
    "## ✅ Key Insights\n",
    "\n",
    "- **Champions** (RFM Score 444): Recently active, frequent buyers with high spending.\n",
    "- **At Risk** (RFM Score 111): Haven't purchased recently and have low transaction volume.\n",
    "- **Weekend vs Weekday**: Weekend shoppers may have higher volume but lower frequency.\n",
    "- **Hourly Trends**: Identifying peak shopping hours helps in campaign scheduling.\n",
    "\n",
    "---\n",
    "\n",
    "## 📈 Next Steps\n",
    "\n",
    "- Visualize RFM segments and behavioral trends\n",
    "- Perform KMeans clustering on RFM or enhanced features\n",
    "- Export to dashboard tools like Tableau or Power BI\n",
    "\n"
   ]
  }
 ],
 "metadata": {},
 "nbformat": 4,
 "nbformat_minor": 5
}
